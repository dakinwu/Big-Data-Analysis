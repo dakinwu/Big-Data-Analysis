{
 "cells": [
  {
   "cell_type": "code",
   "execution_count": 1,
   "metadata": {},
   "outputs": [],
   "source": [
    "import pandas as pd\n",
    "import numpy as np\n",
    "import seaborn as sns\n",
    "sns.set(style=\"white\")\n",
    "sns.set(style=\"whitegrid\", color_codes=True)\n",
    "import matplotlib.pyplot as plt \n",
    "plt.rc(\"font\", size=16)"
   ]
  },
  {
   "cell_type": "code",
   "execution_count": 2,
   "metadata": {},
   "outputs": [
    {
     "name": "stderr",
     "output_type": "stream",
     "text": [
      "C:\\Users\\dakin\\Anaconda3\\lib\\site-packages\\IPython\\core\\interactiveshell.py:3020: DtypeWarning: Columns (17,21,22) have mixed types. Specify dtype option on import or set low_memory=False.\n",
      "  interactivity=interactivity, compiler=compiler, result=result)\n"
     ]
    }
   ],
   "source": [
    "data = pd.read_csv('train.csv')"
   ]
  },
  {
   "cell_type": "code",
   "execution_count": 3,
   "metadata": {},
   "outputs": [],
   "source": [
    "from matplotlib.font_manager import FontProperties\n",
    "myfont=FontProperties(fname=r'C:\\Windows\\Fonts\\kaiu.ttf',size=14)\n",
    "sns.set(style=\"white\")\n",
    "sns.set(style=\"whitegrid\",font=myfont.get_name())"
   ]
  },
  {
   "cell_type": "code",
   "execution_count": 4,
   "metadata": {},
   "outputs": [
    {
     "data": {
      "text/html": [
       "<div>\n",
       "<style scoped>\n",
       "    .dataframe tbody tr th:only-of-type {\n",
       "        vertical-align: middle;\n",
       "    }\n",
       "\n",
       "    .dataframe tbody tr th {\n",
       "        vertical-align: top;\n",
       "    }\n",
       "\n",
       "    .dataframe thead th {\n",
       "        text-align: right;\n",
       "    }\n",
       "</style>\n",
       "<table border=\"1\" class=\"dataframe\">\n",
       "  <thead>\n",
       "    <tr style=\"text-align: right;\">\n",
       "      <th></th>\n",
       "      <th>CUS_ID</th>\n",
       "      <th>GENDER</th>\n",
       "      <th>AGE</th>\n",
       "      <th>CHARGE_CITY_CD</th>\n",
       "      <th>CONTACT_CITY_CD</th>\n",
       "      <th>EDUCATION_CD</th>\n",
       "      <th>MARRIAGE_CD</th>\n",
       "      <th>LAST_A_CCONTACT_DT</th>\n",
       "      <th>L1YR_A_ISSUE_CNT</th>\n",
       "      <th>LAST_A_ISSUE_DT</th>\n",
       "      <th>...</th>\n",
       "      <th>L1YR_GROSS_PRE_AMT</th>\n",
       "      <th>CUST_9_SEGMENTS_CD</th>\n",
       "      <th>FINANCETOOLS_A</th>\n",
       "      <th>FINANCETOOLS_B</th>\n",
       "      <th>FINANCETOOLS_C</th>\n",
       "      <th>FINANCETOOLS_D</th>\n",
       "      <th>FINANCETOOLS_E</th>\n",
       "      <th>FINANCETOOLS_F</th>\n",
       "      <th>FINANCETOOLS_G</th>\n",
       "      <th>Y1</th>\n",
       "    </tr>\n",
       "  </thead>\n",
       "  <tbody>\n",
       "    <tr>\n",
       "      <th>0</th>\n",
       "      <td>3418</td>\n",
       "      <td>M</td>\n",
       "      <td>低</td>\n",
       "      <td>A1</td>\n",
       "      <td>A1</td>\n",
       "      <td>NaN</td>\n",
       "      <td>NaN</td>\n",
       "      <td>Y</td>\n",
       "      <td>0</td>\n",
       "      <td>N</td>\n",
       "      <td>...</td>\n",
       "      <td>0.000174</td>\n",
       "      <td>C</td>\n",
       "      <td>NaN</td>\n",
       "      <td>NaN</td>\n",
       "      <td>NaN</td>\n",
       "      <td>NaN</td>\n",
       "      <td>NaN</td>\n",
       "      <td>NaN</td>\n",
       "      <td>NaN</td>\n",
       "      <td>N</td>\n",
       "    </tr>\n",
       "    <tr>\n",
       "      <th>1</th>\n",
       "      <td>4302</td>\n",
       "      <td>M</td>\n",
       "      <td>低</td>\n",
       "      <td>A1</td>\n",
       "      <td>A1</td>\n",
       "      <td>NaN</td>\n",
       "      <td>NaN</td>\n",
       "      <td>Y</td>\n",
       "      <td>0</td>\n",
       "      <td>N</td>\n",
       "      <td>...</td>\n",
       "      <td>0.008724</td>\n",
       "      <td>A</td>\n",
       "      <td>NaN</td>\n",
       "      <td>NaN</td>\n",
       "      <td>NaN</td>\n",
       "      <td>NaN</td>\n",
       "      <td>NaN</td>\n",
       "      <td>NaN</td>\n",
       "      <td>NaN</td>\n",
       "      <td>N</td>\n",
       "    </tr>\n",
       "    <tr>\n",
       "      <th>2</th>\n",
       "      <td>5545</td>\n",
       "      <td>M</td>\n",
       "      <td>低</td>\n",
       "      <td>A1</td>\n",
       "      <td>A1</td>\n",
       "      <td>1.0</td>\n",
       "      <td>0.0</td>\n",
       "      <td>Y</td>\n",
       "      <td>1</td>\n",
       "      <td>Y</td>\n",
       "      <td>...</td>\n",
       "      <td>0.005359</td>\n",
       "      <td>A</td>\n",
       "      <td>Y</td>\n",
       "      <td>N</td>\n",
       "      <td>N</td>\n",
       "      <td>N</td>\n",
       "      <td>N</td>\n",
       "      <td>N</td>\n",
       "      <td>N</td>\n",
       "      <td>N</td>\n",
       "    </tr>\n",
       "    <tr>\n",
       "      <th>3</th>\n",
       "      <td>7207</td>\n",
       "      <td>M</td>\n",
       "      <td>低</td>\n",
       "      <td>A1</td>\n",
       "      <td>A1</td>\n",
       "      <td>NaN</td>\n",
       "      <td>0.0</td>\n",
       "      <td>Y</td>\n",
       "      <td>0</td>\n",
       "      <td>N</td>\n",
       "      <td>...</td>\n",
       "      <td>0.000000</td>\n",
       "      <td>C</td>\n",
       "      <td>NaN</td>\n",
       "      <td>NaN</td>\n",
       "      <td>NaN</td>\n",
       "      <td>NaN</td>\n",
       "      <td>NaN</td>\n",
       "      <td>NaN</td>\n",
       "      <td>NaN</td>\n",
       "      <td>N</td>\n",
       "    </tr>\n",
       "    <tr>\n",
       "      <th>4</th>\n",
       "      <td>7213</td>\n",
       "      <td>M</td>\n",
       "      <td>低</td>\n",
       "      <td>A1</td>\n",
       "      <td>A1</td>\n",
       "      <td>1.0</td>\n",
       "      <td>0.0</td>\n",
       "      <td>N</td>\n",
       "      <td>0</td>\n",
       "      <td>N</td>\n",
       "      <td>...</td>\n",
       "      <td>0.000603</td>\n",
       "      <td>C</td>\n",
       "      <td>NaN</td>\n",
       "      <td>NaN</td>\n",
       "      <td>NaN</td>\n",
       "      <td>NaN</td>\n",
       "      <td>NaN</td>\n",
       "      <td>NaN</td>\n",
       "      <td>NaN</td>\n",
       "      <td>N</td>\n",
       "    </tr>\n",
       "  </tbody>\n",
       "</table>\n",
       "<p>5 rows × 132 columns</p>\n",
       "</div>"
      ],
      "text/plain": [
       "   CUS_ID GENDER AGE CHARGE_CITY_CD CONTACT_CITY_CD  EDUCATION_CD  \\\n",
       "0    3418      M   低             A1              A1           NaN   \n",
       "1    4302      M   低             A1              A1           NaN   \n",
       "2    5545      M   低             A1              A1           1.0   \n",
       "3    7207      M   低             A1              A1           NaN   \n",
       "4    7213      M   低             A1              A1           1.0   \n",
       "\n",
       "   MARRIAGE_CD LAST_A_CCONTACT_DT  L1YR_A_ISSUE_CNT LAST_A_ISSUE_DT ...  \\\n",
       "0          NaN                  Y                 0               N ...   \n",
       "1          NaN                  Y                 0               N ...   \n",
       "2          0.0                  Y                 1               Y ...   \n",
       "3          0.0                  Y                 0               N ...   \n",
       "4          0.0                  N                 0               N ...   \n",
       "\n",
       "   L1YR_GROSS_PRE_AMT CUST_9_SEGMENTS_CD  FINANCETOOLS_A  FINANCETOOLS_B  \\\n",
       "0            0.000174                  C             NaN             NaN   \n",
       "1            0.008724                  A             NaN             NaN   \n",
       "2            0.005359                  A               Y               N   \n",
       "3            0.000000                  C             NaN             NaN   \n",
       "4            0.000603                  C             NaN             NaN   \n",
       "\n",
       "   FINANCETOOLS_C  FINANCETOOLS_D  FINANCETOOLS_E FINANCETOOLS_F  \\\n",
       "0             NaN             NaN             NaN            NaN   \n",
       "1             NaN             NaN             NaN            NaN   \n",
       "2               N               N               N              N   \n",
       "3             NaN             NaN             NaN            NaN   \n",
       "4             NaN             NaN             NaN            NaN   \n",
       "\n",
       "  FINANCETOOLS_G Y1  \n",
       "0            NaN  N  \n",
       "1            NaN  N  \n",
       "2              N  N  \n",
       "3            NaN  N  \n",
       "4            NaN  N  \n",
       "\n",
       "[5 rows x 132 columns]"
      ]
     },
     "execution_count": 4,
     "metadata": {},
     "output_type": "execute_result"
    }
   ],
   "source": [
    "data.head()"
   ]
  },
  {
   "cell_type": "code",
   "execution_count": 15,
   "metadata": {},
   "outputs": [
    {
     "data": {
      "image/png": "[encoded data removed]",
      "text/plain": [
       "<Figure size 432x288 with 1 Axes>"
      ]
     },
     "metadata": {
      "needs_background": "light"
     },
     "output_type": "display_data"
    },
    {
     "data": {
      "text/plain": [
       "<Figure size 432x288 with 0 Axes>"
      ]
     },
     "metadata": {},
     "output_type": "display_data"
    }
   ],
   "source": [
    "# 資料不均衡狀況明顯\n",
    "sns.countplot(x='Y1',data=data,palette='muted')\n",
    "plt.show()\n",
    "plt.savefig('count_plot')"
   ]
  },
  {
   "cell_type": "code",
   "execution_count": 16,
   "metadata": {},
   "outputs": [
    {
     "name": "stdout",
     "output_type": "stream",
     "text": [
      "無購買重疾險商品： 98.0\n",
      "有購買重疾險商品： 2.0\n"
     ]
    }
   ],
   "source": [
    "count_no_buy = len(data[data['Y1']=='N'])\n",
    "count_buy = len(data[data['Y1']=='Y'])\n",
    "pct_of_no_buy = count_no_buy/(count_no_buy+count_buy)\n",
    "print(\"無購買重疾險商品：\", pct_of_no_buy*100)\n",
    "pct_of_buy = count_buy/(count_no_buy+count_buy)\n",
    "print(\"有購買重疾險商品：\", pct_of_buy*100)"
   ]
  },
  {
   "cell_type": "code",
   "execution_count": 17,
   "metadata": {},
   "outputs": [
    {
     "data": {
      "text/html": [
       "<div>\n",
       "<style scoped>\n",
       "    .dataframe tbody tr th:only-of-type {\n",
       "        vertical-align: middle;\n",
       "    }\n",
       "\n",
       "    .dataframe tbody tr th {\n",
       "        vertical-align: top;\n",
       "    }\n",
       "\n",
       "    .dataframe thead tr th {\n",
       "        text-align: left;\n",
       "    }\n",
       "\n",
       "    .dataframe thead tr:last-of-type th {\n",
       "        text-align: right;\n",
       "    }\n",
       "</style>\n",
       "<table border=\"1\" class=\"dataframe\">\n",
       "  <thead>\n",
       "    <tr>\n",
       "      <th>LEVEL</th>\n",
       "      <th colspan=\"2\" halign=\"left\">1.0</th>\n",
       "      <th colspan=\"2\" halign=\"left\">2.0</th>\n",
       "      <th colspan=\"2\" halign=\"left\">3.0</th>\n",
       "      <th colspan=\"2\" halign=\"left\">4.0</th>\n",
       "      <th colspan=\"2\" halign=\"left\">5.0</th>\n",
       "    </tr>\n",
       "    <tr>\n",
       "      <th>Y1</th>\n",
       "      <th>N</th>\n",
       "      <th>Y</th>\n",
       "      <th>N</th>\n",
       "      <th>Y</th>\n",
       "      <th>N</th>\n",
       "      <th>Y</th>\n",
       "      <th>N</th>\n",
       "      <th>Y</th>\n",
       "      <th>N</th>\n",
       "      <th>Y</th>\n",
       "    </tr>\n",
       "    <tr>\n",
       "      <th>GENDER</th>\n",
       "      <th></th>\n",
       "      <th></th>\n",
       "      <th></th>\n",
       "      <th></th>\n",
       "      <th></th>\n",
       "      <th></th>\n",
       "      <th></th>\n",
       "      <th></th>\n",
       "      <th></th>\n",
       "      <th></th>\n",
       "    </tr>\n",
       "  </thead>\n",
       "  <tbody>\n",
       "    <tr>\n",
       "      <th>F</th>\n",
       "      <td>7356</td>\n",
       "      <td>58</td>\n",
       "      <td>2011</td>\n",
       "      <td>39</td>\n",
       "      <td>2169</td>\n",
       "      <td>32</td>\n",
       "      <td>3618</td>\n",
       "      <td>86</td>\n",
       "      <td>16293</td>\n",
       "      <td>726</td>\n",
       "    </tr>\n",
       "    <tr>\n",
       "      <th>M</th>\n",
       "      <td>6405</td>\n",
       "      <td>37</td>\n",
       "      <td>1711</td>\n",
       "      <td>25</td>\n",
       "      <td>1799</td>\n",
       "      <td>17</td>\n",
       "      <td>2650</td>\n",
       "      <td>78</td>\n",
       "      <td>10757</td>\n",
       "      <td>500</td>\n",
       "    </tr>\n",
       "  </tbody>\n",
       "</table>\n",
       "</div>"
      ],
      "text/plain": [
       "LEVEL    1.0       2.0       3.0       4.0        5.0     \n",
       "Y1         N   Y     N   Y     N   Y     N   Y      N    Y\n",
       "GENDER                                                    \n",
       "F       7356  58  2011  39  2169  32  3618  86  16293  726\n",
       "M       6405  37  1711  25  1799  17  2650  78  10757  500"
      ]
     },
     "execution_count": 17,
     "metadata": {},
     "output_type": "execute_result"
    }
   ],
   "source": [
    "pd.crosstab(data.GENDER,columns=[data.LEVEL,data.Y1]) # 樞紐分析表"
   ]
  },
  {
   "cell_type": "code",
   "execution_count": 18,
   "metadata": {},
   "outputs": [
    {
     "data": {
      "text/html": [
       "<div>\n",
       "<style scoped>\n",
       "    .dataframe tbody tr th:only-of-type {\n",
       "        vertical-align: middle;\n",
       "    }\n",
       "\n",
       "    .dataframe tbody tr th {\n",
       "        vertical-align: top;\n",
       "    }\n",
       "\n",
       "    .dataframe thead tr th {\n",
       "        text-align: left;\n",
       "    }\n",
       "\n",
       "    .dataframe thead tr:last-of-type th {\n",
       "        text-align: right;\n",
       "    }\n",
       "</style>\n",
       "<table border=\"1\" class=\"dataframe\">\n",
       "  <thead>\n",
       "    <tr>\n",
       "      <th>LEVEL</th>\n",
       "      <th colspan=\"2\" halign=\"left\">1.0</th>\n",
       "      <th colspan=\"2\" halign=\"left\">2.0</th>\n",
       "      <th colspan=\"2\" halign=\"left\">3.0</th>\n",
       "      <th colspan=\"2\" halign=\"left\">4.0</th>\n",
       "      <th colspan=\"2\" halign=\"left\">5.0</th>\n",
       "    </tr>\n",
       "    <tr>\n",
       "      <th>Y1</th>\n",
       "      <th>N</th>\n",
       "      <th>Y</th>\n",
       "      <th>N</th>\n",
       "      <th>Y</th>\n",
       "      <th>N</th>\n",
       "      <th>Y</th>\n",
       "      <th>N</th>\n",
       "      <th>Y</th>\n",
       "      <th>N</th>\n",
       "      <th>Y</th>\n",
       "    </tr>\n",
       "    <tr>\n",
       "      <th>AGE</th>\n",
       "      <th></th>\n",
       "      <th></th>\n",
       "      <th></th>\n",
       "      <th></th>\n",
       "      <th></th>\n",
       "      <th></th>\n",
       "      <th></th>\n",
       "      <th></th>\n",
       "      <th></th>\n",
       "      <th></th>\n",
       "    </tr>\n",
       "  </thead>\n",
       "  <tbody>\n",
       "    <tr>\n",
       "      <th>中</th>\n",
       "      <td>2379</td>\n",
       "      <td>23</td>\n",
       "      <td>860</td>\n",
       "      <td>18</td>\n",
       "      <td>1135</td>\n",
       "      <td>18</td>\n",
       "      <td>1833</td>\n",
       "      <td>71</td>\n",
       "      <td>7895</td>\n",
       "      <td>535</td>\n",
       "    </tr>\n",
       "    <tr>\n",
       "      <th>中高</th>\n",
       "      <td>4622</td>\n",
       "      <td>48</td>\n",
       "      <td>1295</td>\n",
       "      <td>35</td>\n",
       "      <td>1278</td>\n",
       "      <td>17</td>\n",
       "      <td>2118</td>\n",
       "      <td>61</td>\n",
       "      <td>8667</td>\n",
       "      <td>441</td>\n",
       "    </tr>\n",
       "    <tr>\n",
       "      <th>低</th>\n",
       "      <td>467</td>\n",
       "      <td>3</td>\n",
       "      <td>72</td>\n",
       "      <td>1</td>\n",
       "      <td>133</td>\n",
       "      <td>0</td>\n",
       "      <td>179</td>\n",
       "      <td>2</td>\n",
       "      <td>646</td>\n",
       "      <td>28</td>\n",
       "    </tr>\n",
       "    <tr>\n",
       "      <th>高</th>\n",
       "      <td>6377</td>\n",
       "      <td>21</td>\n",
       "      <td>1517</td>\n",
       "      <td>11</td>\n",
       "      <td>1446</td>\n",
       "      <td>14</td>\n",
       "      <td>2193</td>\n",
       "      <td>33</td>\n",
       "      <td>9973</td>\n",
       "      <td>230</td>\n",
       "    </tr>\n",
       "  </tbody>\n",
       "</table>\n",
       "</div>"
      ],
      "text/plain": [
       "LEVEL   1.0       2.0       3.0       4.0       5.0     \n",
       "Y1        N   Y     N   Y     N   Y     N   Y     N    Y\n",
       "AGE                                                     \n",
       "中      2379  23   860  18  1135  18  1833  71  7895  535\n",
       "中高     4622  48  1295  35  1278  17  2118  61  8667  441\n",
       "低       467   3    72   1   133   0   179   2   646   28\n",
       "高      6377  21  1517  11  1446  14  2193  33  9973  230"
      ]
     },
     "execution_count": 18,
     "metadata": {},
     "output_type": "execute_result"
    }
   ],
   "source": [
    "pd.crosstab(data.AGE,columns=[data.LEVEL,data.Y1])"
   ]
  },
  {
   "cell_type": "code",
   "execution_count": 11,
   "metadata": {
    "scrolled": true
   },
   "outputs": [
    {
     "data": {
      "image/png": "[encoded data removed]",
      "text/plain": [
       "<Figure size 432x288 with 1 Axes>"
      ]
     },
     "metadata": {
      "needs_background": "light"
     },
     "output_type": "display_data"
    }
   ],
   "source": [
    "%matplotlib inline\n",
    "pd.crosstab(data.LEVEL,data.Y1).plot(kind='bar') #樞紐分析表\n",
    "plt.title('Purchase Frequency for LEVEL')\n",
    "plt.xlabel('LEVEL')\n",
    "plt.ylabel('Frequency of Purchase')\n",
    "plt.savefig('purchase_fre_level')"
   ]
  },
  {
   "cell_type": "code",
   "execution_count": 21,
   "metadata": {
    "scrolled": true
   },
   "outputs": [
    {
     "data": {
      "image/png": "[encoded data removed]",
      "text/plain": [
       "<Figure size 432x288 with 1 Axes>"
      ]
     },
     "metadata": {
      "needs_background": "light"
     },
     "output_type": "display_data"
    }
   ],
   "source": [
    "%matplotlib inline\n",
    "table=pd.crosstab(data.RFM_R,data.Y1)\n",
    "table.div(table.sum(1).astype(float), axis=0).plot(kind='bar', stacked=True)\n",
    "plt.title('Purchase Frequency for RFM_R')\n",
    "plt.xlabel('RFM_R')\n",
    "plt.ylabel('Frequency of Purchase')\n",
    "plt.savefig('purchase_fre_RFM_R')"
   ]
  },
  {
   "cell_type": "code",
   "execution_count": 20,
   "metadata": {},
   "outputs": [
    {
     "data": {
      "image/png": "[encoded data removed]",
      "text/plain": [
       "<Figure size 432x288 with 1 Axes>"
      ]
     },
     "metadata": {
      "needs_background": "light"
     },
     "output_type": "display_data"
    }
   ],
   "source": [
    "%matplotlib inline\n",
    "table=pd.crosstab(data.LAST_A_ISSUE_DT,data.Y1)\n",
    "table.div(table.sum(1).astype(float), axis=0).plot(kind='bar', stacked=True)\n",
    "plt.title('Purchase Frequency for LAST_A_ISSUE_DT')\n",
    "plt.xlabel('LAST_A_ISSUE_DT')\n",
    "plt.ylabel('Frequency of Purchase')\n",
    "plt.savefig('purchase_fre_LAST_A_ISSUE_DT')"
   ]
  },
  {
   "cell_type": "code",
   "execution_count": 13,
   "metadata": {
    "scrolled": true
   },
   "outputs": [
    {
     "data": {
      "image/png": "[encoded data removed]",
      "text/plain": [
       "<Figure size 432x288 with 1 Axes>"
      ]
     },
     "metadata": {
      "needs_background": "light"
     },
     "output_type": "display_data"
    }
   ],
   "source": [
    "table=pd.crosstab(data.CHARGE_CITY_CD,data.Y1)\n",
    "table.div(table.sum(1).astype(float), axis=0).plot(kind='bar', stacked=True)\n",
    "plt.title('Stacked Bar Chart of CHARGE_CITY_CD vs Purchase')\n",
    "plt.xlabel('CHARGE_CITY_CD')\n",
    "plt.ylabel('Proportion of Customers')\n",
    "plt.savefig('City_vs_pur_stack')"
   ]
  },
  {
   "cell_type": "code",
   "execution_count": 14,
   "metadata": {},
   "outputs": [
    {
     "data": {
      "image/png": "[encoded data removed]",
      "text/plain": [
       "<Figure size 432x288 with 1 Axes>"
      ]
     },
     "metadata": {
      "needs_background": "light"
     },
     "output_type": "display_data"
    }
   ],
   "source": [
    "table=pd.crosstab(data.INSD_1ST_AGE,data.Y1)\n",
    "table.div(table.sum(1).astype(float), axis=0).plot(kind='bar', stacked=True)\n",
    "plt.title('Stacked Bar Chart of INSD_1ST_AGE vs Purchase')\n",
    "plt.xlabel('INSD_1ST_AGE')\n",
    "plt.ylabel('Proportion of Customers')\n",
    "plt.savefig('INSD_1ST_AGE_vs_pur_stack')"
   ]
  },
  {
   "cell_type": "code",
   "execution_count": null,
   "metadata": {},
   "outputs": [],
   "source": []
  }
 ],
 "metadata": {
  "kernelspec": {
   "display_name": "Python 3",
   "language": "python",
   "name": "python3"
  },
  "language_info": {
   "codemirror_mode": {
    "name": "ipython",
    "version": 3
   },
   "file_extension": ".py",
   "mimetype": "text/x-python",
   "name": "python",
   "nbconvert_exporter": "python",
   "pygments_lexer": "ipython3",
   "version": "3.7.1"
  }
 },
 "nbformat": 4,
 "nbformat_minor": 2
}
