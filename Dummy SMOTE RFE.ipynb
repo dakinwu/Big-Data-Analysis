{
 "cells": [
  {
   "cell_type": "code",
   "execution_count": 1,
   "metadata": {},
   "outputs": [],
   "source": [
    "import pandas as pd\n",
    "import numpy as np\n",
    "from sklearn import preprocessing\n",
    "import matplotlib.pyplot as plt \n",
    "plt.rc(\"font\", size=16)\n",
    "from sklearn.linear_model import LogisticRegression\n",
    "from sklearn.model_selection import train_test_split\n",
    "import seaborn as sns\n",
    "sns.set(style=\"white\")\n",
    "sns.set(style=\"whitegrid\", color_codes=True)"
   ]
  },
  {
   "cell_type": "code",
   "execution_count": 2,
   "metadata": {},
   "outputs": [],
   "source": [
    "train = pd.read_csv(\"train_data.csv\")"
   ]
  },
  {
   "cell_type": "code",
   "execution_count": 18,
   "metadata": {},
   "outputs": [
    {
     "name": "stdout",
     "output_type": "stream",
     "text": [
      "(100000, 132)\n"
     ]
    },
    {
     "data": {
      "text/plain": [
       "0"
      ]
     },
     "execution_count": 18,
     "metadata": {},
     "output_type": "execute_result"
    }
   ],
   "source": [
    "print(train.shape)\n",
    "train.isnull().any().sum()"
   ]
  },
  {
   "cell_type": "code",
   "execution_count": 3,
   "metadata": {
    "scrolled": true
   },
   "outputs": [
    {
     "data": {
      "text/plain": [
       "(100000, 131)"
      ]
     },
     "execution_count": 3,
     "metadata": {},
     "output_type": "execute_result"
    }
   ],
   "source": [
    "train = train.drop(train.columns[0],axis=1)\n",
    "train.shape"
   ]
  },
  {
   "cell_type": "code",
   "execution_count": 27,
   "metadata": {},
   "outputs": [
    {
     "data": {
      "text/plain": [
       " 0.0    64127\n",
       " 1.0    26822\n",
       "-1.0     7951\n",
       " 2.0     1100\n",
       "Name: MARRIAGE_CD, dtype: int64"
      ]
     },
     "execution_count": 27,
     "metadata": {},
     "output_type": "execute_result"
    }
   ],
   "source": [
    "train['MARRIAGE_CD'].value_counts()"
   ]
  },
  {
   "cell_type": "code",
   "execution_count": 4,
   "metadata": {},
   "outputs": [
    {
     "data": {
      "text/plain": [
       "55"
      ]
     },
     "execution_count": 4,
     "metadata": {},
     "output_type": "execute_result"
    }
   ],
   "source": [
    "cat_vars=['GENDER','AGE','CHARGE_CITY_CD','CONTACT_CITY_CD','EDUCATION_CD','MARRIAGE_CD','OCCUPATION_CLASS_CD','APC_1ST_AGE',\n",
    "          'INSD_1ST_AGE','RFM_R','REBUY_TIMES_CNT','LEVEL','LIFE_CNT','A_IND','B_IND','C_IND','X_A_IND','X_B_IND','X_C_IND',\n",
    "          'X_D_IND','X_E_IND','X_F_IND','X_G_IND','X_H_IND','IF_ISSUE_INSD_A_IND','IF_ISSUE_INSD_B_IND','IF_ISSUE_INSD_C_IND',\n",
    "          'IF_ISSUE_INSD_D_IND','IF_ISSUE_INSD_E_IND','IF_ISSUE_INSD_F_IND','IF_ISSUE_INSD_G_IND','IF_ISSUE_INSD_H_IND',\n",
    "          'IF_ISSUE_INSD_I_IND','IF_ISSUE_INSD_J_IND','IF_ISSUE_INSD_K_IND','IF_ISSUE_INSD_L_IND','IF_ISSUE_INSD_M_IND',\n",
    "          'IF_ISSUE_INSD_N_IND','IF_ISSUE_INSD_O_IND','IF_ISSUE_INSD_P_IND','IF_ISSUE_INSD_Q_IND','IF_ADD_INSD_F_IND',\n",
    "          'IF_ADD_INSD_L_IND','IF_ADD_INSD_Q_IND','IF_ADD_INSD_G_IND','IF_ADD_INSD_R_IND','IF_ADD_INSD_IND','CUST_9_SEGMENTS_CD',\n",
    "          'FINANCETOOLS_A','FINANCETOOLS_B','FINANCETOOLS_C','FINANCETOOLS_D','FINANCETOOLS_E','FINANCETOOLS_F','FINANCETOOLS_G']\n",
    "len(cat_vars)"
   ]
  },
  {
   "cell_type": "code",
   "execution_count": 37,
   "metadata": {
    "scrolled": true
   },
   "outputs": [
    {
     "name": "stdout",
     "output_type": "stream",
     "text": [
      "GENDER\n",
      "AGE\n",
      "CHARGE_CITY_CD\n",
      "CONTACT_CITY_CD\n",
      "EDUCATION_CD\n",
      "MARRIAGE_CD\n",
      "L1YR_B_ISSUE_CNT\n",
      "OCCUPATION_CLASS_CD\n",
      "APC_CNT\n",
      "APC_1ST_AGE\n",
      "INSD_1ST_AGE\n",
      "RFM_R\n",
      "REBUY_TIMES_CNT\n",
      "LEVEL\n",
      "RFM_M_LEVEL\n",
      "LIFE_CNT\n",
      "A_IND\n",
      "B_IND\n",
      "C_IND\n",
      "BANK_NUMBER_CNT\n",
      "IM_CNT\n",
      "X_A_IND\n",
      "X_B_IND\n",
      "X_C_IND\n",
      "X_D_IND\n",
      "X_E_IND\n",
      "X_F_IND\n",
      "X_G_IND\n",
      "X_H_IND\n",
      "IF_ISSUE_INSD_A_IND\n",
      "IF_ISSUE_INSD_B_IND\n",
      "IF_ISSUE_INSD_C_IND\n",
      "IF_ISSUE_INSD_D_IND\n",
      "IF_ISSUE_INSD_E_IND\n",
      "IF_ISSUE_INSD_F_IND\n",
      "IF_ISSUE_INSD_G_IND\n",
      "IF_ISSUE_INSD_H_IND\n",
      "IF_ISSUE_INSD_I_IND\n",
      "IF_ISSUE_INSD_J_IND\n",
      "IF_ISSUE_INSD_K_IND\n",
      "IF_ISSUE_INSD_L_IND\n",
      "IF_ISSUE_INSD_M_IND\n",
      "IF_ISSUE_INSD_N_IND\n",
      "IF_ISSUE_INSD_O_IND\n",
      "IF_ISSUE_INSD_P_IND\n",
      "IF_ISSUE_INSD_Q_IND\n",
      "IF_ADD_INSD_F_IND\n",
      "IF_ADD_INSD_L_IND\n",
      "IF_ADD_INSD_Q_IND\n",
      "IF_ADD_INSD_G_IND\n",
      "IF_ADD_INSD_R_IND\n",
      "IF_ADD_INSD_IND\n",
      "CUST_9_SEGMENTS_CD\n",
      "FINANCETOOLS_A\n",
      "FINANCETOOLS_B\n",
      "FINANCETOOLS_C\n",
      "FINANCETOOLS_D\n",
      "FINANCETOOLS_E\n",
      "FINANCETOOLS_F\n",
      "FINANCETOOLS_G\n"
     ]
    },
    {
     "data": {
      "text/plain": [
       "60"
      ]
     },
     "execution_count": 37,
     "metadata": {},
     "output_type": "execute_result"
    }
   ],
   "source": [
    "a=0\n",
    "for i in train.columns:\n",
    "    if 3 <= len(list(train[i].unique())) <= 8:\n",
    "        a=a+1\n",
    "        print(i)\n",
    "a"
   ]
  },
  {
   "cell_type": "code",
   "execution_count": 84,
   "metadata": {},
   "outputs": [
    {
     "data": {
      "text/plain": [
       "array([ 0,  1,  2,  3,  4,  5,  6,  9, 19, 12], dtype=int64)"
      ]
     },
     "execution_count": 84,
     "metadata": {},
     "output_type": "execute_result"
    }
   ],
   "source": [
    "train['INSD_CNT'].unique()"
   ]
  },
  {
   "cell_type": "code",
   "execution_count": 38,
   "metadata": {
    "scrolled": true
   },
   "outputs": [
    {
     "name": "stdout",
     "output_type": "stream",
     "text": [
      "L1YR_A_ISSUE_CNT\n",
      "CHANNEL_A_POL_CNT\n",
      "CHANNEL_B_POL_CNT\n",
      "INSD_CNT\n",
      "APC_1ST_YEARDIF\n",
      "ANNUAL_PREMIUM_AMT\n",
      "AG_CNT\n",
      "AG_NOW_CNT\n",
      "CLC_CUR_NUM\n",
      "ANNUAL_INCOME_AMT\n",
      "L1YR_C_CNT\n",
      "INSD_LAST_YEARDIF_CNT\n",
      "BMI\n",
      "TERMINATION_RATE\n",
      "TOOL_VISIT_1YEAR_CNT\n",
      "DIEBENEFIT_AMT\n",
      "DIEACCIDENT_AMT\n",
      "POLICY_VALUE_AMT\n",
      "ANNUITY_AMT\n",
      "EXPIRATION_AMT\n",
      "ACCIDENT_HOSPITAL_REC_AMT\n",
      "DISEASES_HOSPITAL_REC_AMT\n",
      "OUTPATIENT_SURGERY_AMT\n",
      "INPATIENT_SURGERY_AMT\n",
      "PAY_LIMIT_MED_MISC_AMT\n",
      "FIRST_CANCER_AMT\n",
      "ILL_ACCELERATION_AMT\n",
      "ILL_ADDITIONAL_AMT\n",
      "LONG_TERM_CARE_AMT\n",
      "MONTHLY_CARE_AMT\n",
      "LIFE_INSD_CNT\n",
      "L1YR_GROSS_PRE_AMT\n"
     ]
    },
    {
     "data": {
      "text/plain": [
       "32"
      ]
     },
     "execution_count": 38,
     "metadata": {},
     "output_type": "execute_result"
    }
   ],
   "source": [
    "a=0\n",
    "for i in train.columns:\n",
    "    if len(list(train[i].unique())) > 8:\n",
    "        a=a+1\n",
    "        print(i)\n",
    "a"
   ]
  },
  {
   "cell_type": "code",
   "execution_count": 5,
   "metadata": {},
   "outputs": [],
   "source": [
    "for var in cat_vars:\n",
    "    cat_list = pd.get_dummies(train[var], prefix=var)\n",
    "    train1=train.join(cat_list)\n",
    "    train=train1\n",
    "    \n",
    "cat_vars=['GENDER','AGE','CHARGE_CITY_CD','CONTACT_CITY_CD','EDUCATION_CD','MARRIAGE_CD','OCCUPATION_CLASS_CD','APC_1ST_AGE',\n",
    "          'INSD_1ST_AGE','RFM_R','REBUY_TIMES_CNT','LEVEL','LIFE_CNT','A_IND','B_IND','C_IND','X_A_IND','X_B_IND','X_C_IND',\n",
    "          'X_D_IND','X_E_IND','X_F_IND','X_G_IND','X_H_IND','IF_ISSUE_INSD_A_IND','IF_ISSUE_INSD_B_IND','IF_ISSUE_INSD_C_IND',\n",
    "          'IF_ISSUE_INSD_D_IND','IF_ISSUE_INSD_E_IND','IF_ISSUE_INSD_F_IND','IF_ISSUE_INSD_G_IND','IF_ISSUE_INSD_H_IND',\n",
    "          'IF_ISSUE_INSD_I_IND','IF_ISSUE_INSD_J_IND','IF_ISSUE_INSD_K_IND','IF_ISSUE_INSD_L_IND','IF_ISSUE_INSD_M_IND',\n",
    "          'IF_ISSUE_INSD_N_IND','IF_ISSUE_INSD_O_IND','IF_ISSUE_INSD_P_IND','IF_ISSUE_INSD_Q_IND','IF_ADD_INSD_F_IND',\n",
    "          'IF_ADD_INSD_L_IND','IF_ADD_INSD_Q_IND','IF_ADD_INSD_G_IND','IF_ADD_INSD_R_IND','IF_ADD_INSD_IND','CUST_9_SEGMENTS_CD',\n",
    "          'FINANCETOOLS_A','FINANCETOOLS_B','FINANCETOOLS_C','FINANCETOOLS_D','FINANCETOOLS_E','FINANCETOOLS_F','FINANCETOOLS_G']\n",
    "data_vars=train.columns.values.tolist()\n",
    "to_keep=[i for i in data_vars if i not in cat_vars]"
   ]
  },
  {
   "cell_type": "code",
   "execution_count": 6,
   "metadata": {
    "scrolled": true
   },
   "outputs": [
    {
     "data": {
      "text/plain": [
       "array(['LAST_A_CCONTACT_DT', 'L1YR_A_ISSUE_CNT', 'LAST_A_ISSUE_DT',\n",
       "       'L1YR_B_ISSUE_CNT', 'LAST_B_ISSUE_DT', 'CHANNEL_A_POL_CNT',\n",
       "       'CHANNEL_B_POL_CNT', 'APC_CNT', 'INSD_CNT', 'IF_2ND_GEN_IND',\n",
       "       'APC_1ST_YEARDIF', 'RFM_M_LEVEL', 'IF_ISSUE_A_IND',\n",
       "       'IF_ISSUE_B_IND', 'IF_ISSUE_C_IND', 'IF_ISSUE_D_IND',\n",
       "       'IF_ISSUE_E_IND', 'IF_ISSUE_F_IND', 'IF_ISSUE_G_IND',\n",
       "       'IF_ISSUE_H_IND', 'IF_ISSUE_I_IND', 'IF_ISSUE_J_IND',\n",
       "       'IF_ISSUE_K_IND', 'IF_ISSUE_L_IND', 'IF_ISSUE_M_IND',\n",
       "       'IF_ISSUE_N_IND', 'IF_ISSUE_O_IND', 'IF_ISSUE_P_IND',\n",
       "       'IF_ISSUE_Q_IND', 'IF_ADD_F_IND', 'IF_ADD_L_IND', 'IF_ADD_Q_IND',\n",
       "       'IF_ADD_G_IND', 'IF_ADD_R_IND', 'IF_ADD_IND', 'ANNUAL_PREMIUM_AMT',\n",
       "       'AG_CNT', 'AG_NOW_CNT', 'CLC_CUR_NUM', 'ANNUAL_INCOME_AMT',\n",
       "       'L1YR_PAYMENT_REMINDER_IND', 'L1YR_LAPSE_IND', 'LAST_B_CONTACT_DT',\n",
       "       'LAST_C_DT', 'L1YR_C_CNT', 'BANK_NUMBER_CNT',\n",
       "       'INSD_LAST_YEARDIF_CNT', 'BMI', 'IF_S_REAL_IND', 'IF_Y_REAL_IND',\n",
       "       'IM_CNT', 'IM_IS_A_IND', 'IM_IS_B_IND', 'IM_IS_C_IND',\n",
       "       'IM_IS_D_IND', 'TERMINATION_RATE', 'TOOL_VISIT_1YEAR_CNT',\n",
       "       'DIEBENEFIT_AMT', 'DIEACCIDENT_AMT', 'POLICY_VALUE_AMT',\n",
       "       'ANNUITY_AMT', 'EXPIRATION_AMT', 'ACCIDENT_HOSPITAL_REC_AMT',\n",
       "       'DISEASES_HOSPITAL_REC_AMT', 'OUTPATIENT_SURGERY_AMT',\n",
       "       'INPATIENT_SURGERY_AMT', 'PAY_LIMIT_MED_MISC_AMT',\n",
       "       'FIRST_CANCER_AMT', 'ILL_ACCELERATION_AMT', 'ILL_ADDITIONAL_AMT',\n",
       "       'LONG_TERM_CARE_AMT', 'MONTHLY_CARE_AMT', 'IF_HOUSEHOLD_CLAIM_IND',\n",
       "       'LIFE_INSD_CNT', 'L1YR_GROSS_PRE_AMT', 'Y1', 'GENDER_-1.0',\n",
       "       'GENDER_0.0', 'GENDER_1.0', 'AGE_1', 'AGE_2', 'AGE_3', 'AGE_4',\n",
       "       'CHARGE_CITY_CD_0', 'CHARGE_CITY_CD_1', 'CHARGE_CITY_CD_2',\n",
       "       'CHARGE_CITY_CD_3', 'CHARGE_CITY_CD_4', 'CHARGE_CITY_CD_5',\n",
       "       'CHARGE_CITY_CD_6', 'CHARGE_CITY_CD_7', 'CONTACT_CITY_CD_0',\n",
       "       'CONTACT_CITY_CD_1', 'CONTACT_CITY_CD_2', 'CONTACT_CITY_CD_3',\n",
       "       'CONTACT_CITY_CD_4', 'CONTACT_CITY_CD_5', 'CONTACT_CITY_CD_6',\n",
       "       'CONTACT_CITY_CD_7', 'EDUCATION_CD_1.0', 'EDUCATION_CD_2.0',\n",
       "       'EDUCATION_CD_2.1690752536569398', 'EDUCATION_CD_3.0',\n",
       "       'EDUCATION_CD_4.0', 'MARRIAGE_CD_-1.0', 'MARRIAGE_CD_0.0',\n",
       "       'MARRIAGE_CD_1.0', 'MARRIAGE_CD_2.0', 'OCCUPATION_CLASS_CD_0.0',\n",
       "       'OCCUPATION_CLASS_CD_1.0',\n",
       "       'OCCUPATION_CLASS_CD_1.3049666805497708',\n",
       "       'OCCUPATION_CLASS_CD_2.0', 'OCCUPATION_CLASS_CD_3.0',\n",
       "       'OCCUPATION_CLASS_CD_4.0', 'OCCUPATION_CLASS_CD_5.0',\n",
       "       'OCCUPATION_CLASS_CD_6.0', 'APC_1ST_AGE_1.0', 'APC_1ST_AGE_2.0',\n",
       "       'APC_1ST_AGE_2.5215275573891884', 'APC_1ST_AGE_3.0',\n",
       "       'APC_1ST_AGE_4.0', 'INSD_1ST_AGE_1.0', 'INSD_1ST_AGE_2.0',\n",
       "       'INSD_1ST_AGE_2.4884853098798945', 'INSD_1ST_AGE_3.0',\n",
       "       'INSD_1ST_AGE_4.0', 'RFM_R_1.0', 'RFM_R_2.0',\n",
       "       'RFM_R_2.382605015342292', 'RFM_R_3.0', 'RFM_R_4.0',\n",
       "       'REBUY_TIMES_CNT_1.0', 'REBUY_TIMES_CNT_1.9878874431397442',\n",
       "       'REBUY_TIMES_CNT_2.0', 'REBUY_TIMES_CNT_3.0',\n",
       "       'REBUY_TIMES_CNT_4.0', 'LEVEL_1.0', 'LEVEL_2.0', 'LEVEL_3.0',\n",
       "       'LEVEL_3.5579151600670254', 'LEVEL_4.0', 'LEVEL_5.0', 'LIFE_CNT_1',\n",
       "       'LIFE_CNT_2', 'LIFE_CNT_3', 'A_IND_-1.0', 'A_IND_0.0', 'A_IND_1.0',\n",
       "       'B_IND_-1.0', 'B_IND_0.0', 'B_IND_1.0', 'C_IND_-1.0', 'C_IND_0.0',\n",
       "       'C_IND_1.0', 'X_A_IND_-1.0', 'X_A_IND_0.0', 'X_A_IND_1.0',\n",
       "       'X_B_IND_-1.0', 'X_B_IND_0.0', 'X_B_IND_1.0', 'X_C_IND_-1.0',\n",
       "       'X_C_IND_0.0', 'X_C_IND_1.0', 'X_D_IND_-1.0', 'X_D_IND_0.0',\n",
       "       'X_D_IND_1.0', 'X_E_IND_-1.0', 'X_E_IND_0.0', 'X_E_IND_1.0',\n",
       "       'X_F_IND_-1.0', 'X_F_IND_0.0', 'X_F_IND_1.0', 'X_G_IND_-1.0',\n",
       "       'X_G_IND_0.0', 'X_G_IND_1.0', 'X_H_IND_-1.0', 'X_H_IND_0.0',\n",
       "       'X_H_IND_1.0', 'IF_ISSUE_INSD_A_IND_-1.0',\n",
       "       'IF_ISSUE_INSD_A_IND_0.0', 'IF_ISSUE_INSD_A_IND_1.0',\n",
       "       'IF_ISSUE_INSD_B_IND_-1.0', 'IF_ISSUE_INSD_B_IND_0.0',\n",
       "       'IF_ISSUE_INSD_B_IND_1.0', 'IF_ISSUE_INSD_C_IND_-1.0',\n",
       "       'IF_ISSUE_INSD_C_IND_0.0', 'IF_ISSUE_INSD_C_IND_1.0',\n",
       "       'IF_ISSUE_INSD_D_IND_-1.0', 'IF_ISSUE_INSD_D_IND_0.0',\n",
       "       'IF_ISSUE_INSD_D_IND_1.0', 'IF_ISSUE_INSD_E_IND_-1.0',\n",
       "       'IF_ISSUE_INSD_E_IND_0.0', 'IF_ISSUE_INSD_E_IND_1.0',\n",
       "       'IF_ISSUE_INSD_F_IND_-1.0', 'IF_ISSUE_INSD_F_IND_0.0',\n",
       "       'IF_ISSUE_INSD_F_IND_1.0', 'IF_ISSUE_INSD_G_IND_-1.0',\n",
       "       'IF_ISSUE_INSD_G_IND_0.0', 'IF_ISSUE_INSD_G_IND_1.0',\n",
       "       'IF_ISSUE_INSD_H_IND_-1.0', 'IF_ISSUE_INSD_H_IND_0.0',\n",
       "       'IF_ISSUE_INSD_H_IND_1.0', 'IF_ISSUE_INSD_I_IND_-1.0',\n",
       "       'IF_ISSUE_INSD_I_IND_0.0', 'IF_ISSUE_INSD_I_IND_1.0',\n",
       "       'IF_ISSUE_INSD_J_IND_-1.0', 'IF_ISSUE_INSD_J_IND_0.0',\n",
       "       'IF_ISSUE_INSD_J_IND_1.0', 'IF_ISSUE_INSD_K_IND_-1.0',\n",
       "       'IF_ISSUE_INSD_K_IND_0.0', 'IF_ISSUE_INSD_K_IND_1.0',\n",
       "       'IF_ISSUE_INSD_L_IND_-1.0', 'IF_ISSUE_INSD_L_IND_0.0',\n",
       "       'IF_ISSUE_INSD_L_IND_1.0', 'IF_ISSUE_INSD_M_IND_-1.0',\n",
       "       'IF_ISSUE_INSD_M_IND_0.0', 'IF_ISSUE_INSD_M_IND_1.0',\n",
       "       'IF_ISSUE_INSD_N_IND_-1.0', 'IF_ISSUE_INSD_N_IND_0.0',\n",
       "       'IF_ISSUE_INSD_N_IND_1.0', 'IF_ISSUE_INSD_O_IND_-1.0',\n",
       "       'IF_ISSUE_INSD_O_IND_0.0', 'IF_ISSUE_INSD_O_IND_1.0',\n",
       "       'IF_ISSUE_INSD_P_IND_-1.0', 'IF_ISSUE_INSD_P_IND_0.0',\n",
       "       'IF_ISSUE_INSD_P_IND_1.0', 'IF_ISSUE_INSD_Q_IND_-1.0',\n",
       "       'IF_ISSUE_INSD_Q_IND_0.0', 'IF_ISSUE_INSD_Q_IND_1.0',\n",
       "       'IF_ADD_INSD_F_IND_-1.0', 'IF_ADD_INSD_F_IND_0.0',\n",
       "       'IF_ADD_INSD_F_IND_1.0', 'IF_ADD_INSD_L_IND_-1.0',\n",
       "       'IF_ADD_INSD_L_IND_0.0', 'IF_ADD_INSD_L_IND_1.0',\n",
       "       'IF_ADD_INSD_Q_IND_-1.0', 'IF_ADD_INSD_Q_IND_0.0',\n",
       "       'IF_ADD_INSD_Q_IND_1.0', 'IF_ADD_INSD_G_IND_-1.0',\n",
       "       'IF_ADD_INSD_G_IND_0.0', 'IF_ADD_INSD_G_IND_1.0',\n",
       "       'IF_ADD_INSD_R_IND_-1.0', 'IF_ADD_INSD_R_IND_0.0',\n",
       "       'IF_ADD_INSD_R_IND_1.0', 'IF_ADD_INSD_IND_-1.0',\n",
       "       'IF_ADD_INSD_IND_0.0', 'IF_ADD_INSD_IND_1.0',\n",
       "       'CUST_9_SEGMENTS_CD_0', 'CUST_9_SEGMENTS_CD_1',\n",
       "       'CUST_9_SEGMENTS_CD_2', 'CUST_9_SEGMENTS_CD_3',\n",
       "       'CUST_9_SEGMENTS_CD_4', 'CUST_9_SEGMENTS_CD_5',\n",
       "       'CUST_9_SEGMENTS_CD_6', 'CUST_9_SEGMENTS_CD_7',\n",
       "       'FINANCETOOLS_A_-1.0', 'FINANCETOOLS_A_0.0', 'FINANCETOOLS_A_1.0',\n",
       "       'FINANCETOOLS_B_-1.0', 'FINANCETOOLS_B_0.0', 'FINANCETOOLS_B_1.0',\n",
       "       'FINANCETOOLS_C_-1.0', 'FINANCETOOLS_C_0.0', 'FINANCETOOLS_C_1.0',\n",
       "       'FINANCETOOLS_D_-1.0', 'FINANCETOOLS_D_0.0', 'FINANCETOOLS_D_1.0',\n",
       "       'FINANCETOOLS_E_-1.0', 'FINANCETOOLS_E_0.0', 'FINANCETOOLS_E_1.0',\n",
       "       'FINANCETOOLS_F_-1.0', 'FINANCETOOLS_F_0.0', 'FINANCETOOLS_F_1.0',\n",
       "       'FINANCETOOLS_G_-1.0', 'FINANCETOOLS_G_0.0', 'FINANCETOOLS_G_1.0'],\n",
       "      dtype=object)"
      ]
     },
     "execution_count": 6,
     "metadata": {},
     "output_type": "execute_result"
    }
   ],
   "source": [
    "train_final=train[to_keep]\n",
    "train_final.columns.values"
   ]
  },
  {
   "cell_type": "code",
   "execution_count": 7,
   "metadata": {},
   "outputs": [
    {
     "data": {
      "text/plain": [
       "(100000, 276)"
      ]
     },
     "execution_count": 7,
     "metadata": {},
     "output_type": "execute_result"
    }
   ],
   "source": [
    "train_final.shape"
   ]
  },
  {
   "cell_type": "code",
   "execution_count": 8,
   "metadata": {},
   "outputs": [
    {
     "data": {
      "text/plain": [
       "(100000, 269)"
      ]
     },
     "execution_count": 8,
     "metadata": {},
     "output_type": "execute_result"
    }
   ],
   "source": [
    "train_final=train_final.drop(['EDUCATION_CD_2.1690752536569398','OCCUPATION_CLASS_CD_1.3049666805497708',\n",
    "                  'APC_1ST_AGE_2.5215275573891884','INSD_1ST_AGE_2.4884853098798945','RFM_R_2.382605015342292',\n",
    "                  'REBUY_TIMES_CNT_1.9878874431397442','LEVEL_3.5579151600670254'],axis=1)\n",
    "train_final.shape"
   ]
  },
  {
   "cell_type": "code",
   "execution_count": 9,
   "metadata": {},
   "outputs": [
    {
     "data": {
      "text/plain": [
       "0    98000\n",
       "1     2000\n",
       "Name: Y1, dtype: int64"
      ]
     },
     "execution_count": 9,
     "metadata": {},
     "output_type": "execute_result"
    }
   ],
   "source": [
    "train_final['Y1'].value_counts()"
   ]
  },
  {
   "cell_type": "markdown",
   "metadata": {},
   "source": [
    "# Over-sampling using SMOTE 製造假樣本"
   ]
  },
  {
   "cell_type": "raw",
   "metadata": {},
   "source": [
    "Always split into test and train sets BEFORE trying oversampling techniques! Oversampling before splitting the data can allow the exact same observations to be present in both the test and train sets. This can allow our model to simply memorize specific data points and cause overfitting and poor generalization to the test data."
   ]
  },
  {
   "cell_type": "raw",
   "metadata": {},
   "source": [
    "To illustrate how this technique works consider some training data which has s samples, and f features in the feature space of the data. Note that these features, for simplicity, are continuous. As an example, consider a dataset of birds for classification. The feature space for the minority class for which we want to oversample could be beak length, wingspan, and weight (all continuous). To then oversample, take a sample from the dataset, and consider its k nearest neighbors (in feature space). To create a synthetic data point, take the vector between one of those k neighbors, and the current data point. Multiply this vector by a random number x which lies between 0, and 1. Add this to the current data point to create the new, synthetic data point."
   ]
  },
  {
   "cell_type": "code",
   "execution_count": 10,
   "metadata": {
    "scrolled": true
   },
   "outputs": [
    {
     "name": "stderr",
     "output_type": "stream",
     "text": [
      "Using TensorFlow backend.\n",
      "C:\\Users\\dakin\\Anaconda3\\lib\\site-packages\\tensorflow\\python\\framework\\dtypes.py:526: FutureWarning: Passing (type, 1) or '1type' as a synonym of type is deprecated; in a future version of numpy, it will be understood as (type, (1,)) / '(1,)type'.\n",
      "  _np_qint8 = np.dtype([(\"qint8\", np.int8, 1)])\n",
      "C:\\Users\\dakin\\Anaconda3\\lib\\site-packages\\tensorflow\\python\\framework\\dtypes.py:527: FutureWarning: Passing (type, 1) or '1type' as a synonym of type is deprecated; in a future version of numpy, it will be understood as (type, (1,)) / '(1,)type'.\n",
      "  _np_quint8 = np.dtype([(\"quint8\", np.uint8, 1)])\n",
      "C:\\Users\\dakin\\Anaconda3\\lib\\site-packages\\tensorflow\\python\\framework\\dtypes.py:528: FutureWarning: Passing (type, 1) or '1type' as a synonym of type is deprecated; in a future version of numpy, it will be understood as (type, (1,)) / '(1,)type'.\n",
      "  _np_qint16 = np.dtype([(\"qint16\", np.int16, 1)])\n",
      "C:\\Users\\dakin\\Anaconda3\\lib\\site-packages\\tensorflow\\python\\framework\\dtypes.py:529: FutureWarning: Passing (type, 1) or '1type' as a synonym of type is deprecated; in a future version of numpy, it will be understood as (type, (1,)) / '(1,)type'.\n",
      "  _np_quint16 = np.dtype([(\"quint16\", np.uint16, 1)])\n",
      "C:\\Users\\dakin\\Anaconda3\\lib\\site-packages\\tensorflow\\python\\framework\\dtypes.py:530: FutureWarning: Passing (type, 1) or '1type' as a synonym of type is deprecated; in a future version of numpy, it will be understood as (type, (1,)) / '(1,)type'.\n",
      "  _np_qint32 = np.dtype([(\"qint32\", np.int32, 1)])\n",
      "C:\\Users\\dakin\\Anaconda3\\lib\\site-packages\\tensorflow\\python\\framework\\dtypes.py:535: FutureWarning: Passing (type, 1) or '1type' as a synonym of type is deprecated; in a future version of numpy, it will be understood as (type, (1,)) / '(1,)type'.\n",
      "  np_resource = np.dtype([(\"resource\", np.ubyte, 1)])\n",
      "C:\\Users\\dakin\\Anaconda3\\lib\\site-packages\\sklearn\\utils\\validation.py:724: DataConversionWarning: A column-vector y was passed when a 1d array was expected. Please change the shape of y to (n_samples, ), for example using ravel().\n",
      "  y = column_or_1d(y, warn=True)\n"
     ]
    },
    {
     "name": "stdout",
     "output_type": "stream",
     "text": [
      "length of oversampled data is  137206\n",
      "Number of no subscription in oversampled data 68603\n",
      "Number of subscription 68603\n",
      "Proportion of no subscription data in oversampled data is  0.5\n",
      "Proportion of subscription data in oversampled data is  0.5\n"
     ]
    }
   ],
   "source": [
    "X = train_final.loc[:, train_final.columns != 'Y1']\n",
    "y = train_final.loc[:, train_final.columns == 'Y1']\n",
    "\n",
    "from imblearn.over_sampling import SMOTE\n",
    "os = SMOTE(random_state=0)\n",
    "X_train, X_test, y_train, y_test = train_test_split(X, y, test_size=0.3, random_state=0)\n",
    "columns = X_train.columns\n",
    "os_data_X, os_data_y = os.fit_sample(X_train, y_train)\n",
    "os_data_X = pd.DataFrame(data = os_data_X, columns = columns )\n",
    "os_data_y = pd.DataFrame(data = os_data_y, columns = ['Y1'])\n",
    "# we can Check the numbers of our data\n",
    "print(\"length of oversampled data is \",len(os_data_X))\n",
    "print(\"Number of no subscription in oversampled data\",len(os_data_y[os_data_y['Y1']==0]))\n",
    "print(\"Number of subscription\",len(os_data_y[os_data_y['Y1']==1]))\n",
    "print(\"Proportion of no subscription data in oversampled data is \",len(os_data_y[os_data_y['Y1']==0])/len(os_data_X))\n",
    "print(\"Proportion of subscription data in oversampled data is \",len(os_data_y[os_data_y['Y1']==1])/len(os_data_X))"
   ]
  },
  {
   "cell_type": "code",
   "execution_count": 11,
   "metadata": {},
   "outputs": [
    {
     "data": {
      "text/plain": [
       "0    68603\n",
       "1     1397\n",
       "Name: Y1, dtype: int64"
      ]
     },
     "execution_count": 11,
     "metadata": {},
     "output_type": "execute_result"
    }
   ],
   "source": [
    "y_train['Y1'].value_counts()"
   ]
  },
  {
   "cell_type": "code",
   "execution_count": 12,
   "metadata": {},
   "outputs": [
    {
     "data": {
      "text/plain": [
       "(137206, 268)"
      ]
     },
     "execution_count": 12,
     "metadata": {},
     "output_type": "execute_result"
    }
   ],
   "source": [
    "os_data_X.shape"
   ]
  },
  {
   "cell_type": "code",
   "execution_count": 13,
   "metadata": {
    "scrolled": true
   },
   "outputs": [
    {
     "data": {
      "text/plain": [
       "1    68603\n",
       "0    68603\n",
       "Name: Y1, dtype: int64"
      ]
     },
     "execution_count": 13,
     "metadata": {},
     "output_type": "execute_result"
    }
   ],
   "source": [
    "os_data_y['Y1'].value_counts()"
   ]
  },
  {
   "cell_type": "code",
   "execution_count": 14,
   "metadata": {
    "scrolled": true
   },
   "outputs": [
    {
     "name": "stderr",
     "output_type": "stream",
     "text": [
      "C:\\Users\\dakin\\Anaconda3\\lib\\site-packages\\sklearn\\utils\\validation.py:724: DataConversionWarning: A column-vector y was passed when a 1d array was expected. Please change the shape of y to (n_samples, ), for example using ravel().\n",
      "  y = column_or_1d(y, warn=True)\n",
      "C:\\Users\\dakin\\Anaconda3\\lib\\site-packages\\sklearn\\linear_model\\logistic.py:432: FutureWarning: Default solver will be changed to 'lbfgs' in 0.22. Specify a solver to silence this warning.\n",
      "  FutureWarning)\n",
      "C:\\Users\\dakin\\Anaconda3\\lib\\site-packages\\sklearn\\linear_model\\logistic.py:432: FutureWarning: Default solver will be changed to 'lbfgs' in 0.22. Specify a solver to silence this warning.\n",
      "  FutureWarning)\n",
      "C:\\Users\\dakin\\Anaconda3\\lib\\site-packages\\sklearn\\linear_model\\logistic.py:432: FutureWarning: Default solver will be changed to 'lbfgs' in 0.22. Specify a solver to silence this warning.\n",
      "  FutureWarning)\n",
      "C:\\Users\\dakin\\Anaconda3\\lib\\site-packages\\sklearn\\linear_model\\logistic.py:432: FutureWarning: Default solver will be changed to 'lbfgs' in 0.22. Specify a solver to silence this warning.\n",
      "  FutureWarning)\n",
      "C:\\Users\\dakin\\Anaconda3\\lib\\site-packages\\sklearn\\linear_model\\logistic.py:432: FutureWarning: Default solver will be changed to 'lbfgs' in 0.22. Specify a solver to silence this warning.\n",
      "  FutureWarning)\n",
      "C:\\Users\\dakin\\Anaconda3\\lib\\site-packages\\sklearn\\linear_model\\logistic.py:432: FutureWarning: Default solver will be changed to 'lbfgs' in 0.22. Specify a solver to silence this warning.\n",
      "  FutureWarning)\n",
      "C:\\Users\\dakin\\Anaconda3\\lib\\site-packages\\sklearn\\linear_model\\logistic.py:432: FutureWarning: Default solver will be changed to 'lbfgs' in 0.22. Specify a solver to silence this warning.\n",
      "  FutureWarning)\n",
      "C:\\Users\\dakin\\Anaconda3\\lib\\site-packages\\sklearn\\linear_model\\logistic.py:432: FutureWarning: Default solver will be changed to 'lbfgs' in 0.22. Specify a solver to silence this warning.\n",
      "  FutureWarning)\n",
      "C:\\Users\\dakin\\Anaconda3\\lib\\site-packages\\sklearn\\linear_model\\logistic.py:432: FutureWarning: Default solver will be changed to 'lbfgs' in 0.22. Specify a solver to silence this warning.\n",
      "  FutureWarning)\n",
      "C:\\Users\\dakin\\Anaconda3\\lib\\site-packages\\sklearn\\linear_model\\logistic.py:432: FutureWarning: Default solver will be changed to 'lbfgs' in 0.22. Specify a solver to silence this warning.\n",
      "  FutureWarning)\n",
      "C:\\Users\\dakin\\Anaconda3\\lib\\site-packages\\sklearn\\linear_model\\logistic.py:432: FutureWarning: Default solver will be changed to 'lbfgs' in 0.22. Specify a solver to silence this warning.\n",
      "  FutureWarning)\n",
      "C:\\Users\\dakin\\Anaconda3\\lib\\site-packages\\sklearn\\linear_model\\logistic.py:432: FutureWarning: Default solver will be changed to 'lbfgs' in 0.22. Specify a solver to silence this warning.\n",
      "  FutureWarning)\n",
      "C:\\Users\\dakin\\Anaconda3\\lib\\site-packages\\sklearn\\linear_model\\logistic.py:432: FutureWarning: Default solver will be changed to 'lbfgs' in 0.22. Specify a solver to silence this warning.\n",
      "  FutureWarning)\n",
      "C:\\Users\\dakin\\Anaconda3\\lib\\site-packages\\sklearn\\linear_model\\logistic.py:432: FutureWarning: Default solver will be changed to 'lbfgs' in 0.22. Specify a solver to silence this warning.\n",
      "  FutureWarning)\n",
      "C:\\Users\\dakin\\Anaconda3\\lib\\site-packages\\sklearn\\linear_model\\logistic.py:432: FutureWarning: Default solver will be changed to 'lbfgs' in 0.22. Specify a solver to silence this warning.\n",
      "  FutureWarning)\n",
      "C:\\Users\\dakin\\Anaconda3\\lib\\site-packages\\sklearn\\linear_model\\logistic.py:432: FutureWarning: Default solver will be changed to 'lbfgs' in 0.22. Specify a solver to silence this warning.\n",
      "  FutureWarning)\n",
      "C:\\Users\\dakin\\Anaconda3\\lib\\site-packages\\sklearn\\linear_model\\logistic.py:432: FutureWarning: Default solver will be changed to 'lbfgs' in 0.22. Specify a solver to silence this warning.\n",
      "  FutureWarning)\n",
      "C:\\Users\\dakin\\Anaconda3\\lib\\site-packages\\sklearn\\linear_model\\logistic.py:432: FutureWarning: Default solver will be changed to 'lbfgs' in 0.22. Specify a solver to silence this warning.\n",
      "  FutureWarning)\n",
      "C:\\Users\\dakin\\Anaconda3\\lib\\site-packages\\sklearn\\linear_model\\logistic.py:432: FutureWarning: Default solver will be changed to 'lbfgs' in 0.22. Specify a solver to silence this warning.\n",
      "  FutureWarning)\n",
      "C:\\Users\\dakin\\Anaconda3\\lib\\site-packages\\sklearn\\linear_model\\logistic.py:432: FutureWarning: Default solver will be changed to 'lbfgs' in 0.22. Specify a solver to silence this warning.\n",
      "  FutureWarning)\n",
      "C:\\Users\\dakin\\Anaconda3\\lib\\site-packages\\sklearn\\linear_model\\logistic.py:432: FutureWarning: Default solver will be changed to 'lbfgs' in 0.22. Specify a solver to silence this warning.\n",
      "  FutureWarning)\n",
      "C:\\Users\\dakin\\Anaconda3\\lib\\site-packages\\sklearn\\linear_model\\logistic.py:432: FutureWarning: Default solver will be changed to 'lbfgs' in 0.22. Specify a solver to silence this warning.\n",
      "  FutureWarning)\n",
      "C:\\Users\\dakin\\Anaconda3\\lib\\site-packages\\sklearn\\linear_model\\logistic.py:432: FutureWarning: Default solver will be changed to 'lbfgs' in 0.22. Specify a solver to silence this warning.\n",
      "  FutureWarning)\n",
      "C:\\Users\\dakin\\Anaconda3\\lib\\site-packages\\sklearn\\linear_model\\logistic.py:432: FutureWarning: Default solver will be changed to 'lbfgs' in 0.22. Specify a solver to silence this warning.\n",
      "  FutureWarning)\n",
      "C:\\Users\\dakin\\Anaconda3\\lib\\site-packages\\sklearn\\linear_model\\logistic.py:432: FutureWarning: Default solver will be changed to 'lbfgs' in 0.22. Specify a solver to silence this warning.\n",
      "  FutureWarning)\n",
      "C:\\Users\\dakin\\Anaconda3\\lib\\site-packages\\sklearn\\linear_model\\logistic.py:432: FutureWarning: Default solver will be changed to 'lbfgs' in 0.22. Specify a solver to silence this warning.\n",
      "  FutureWarning)\n",
      "C:\\Users\\dakin\\Anaconda3\\lib\\site-packages\\sklearn\\linear_model\\logistic.py:432: FutureWarning: Default solver will be changed to 'lbfgs' in 0.22. Specify a solver to silence this warning.\n",
      "  FutureWarning)\n",
      "C:\\Users\\dakin\\Anaconda3\\lib\\site-packages\\sklearn\\linear_model\\logistic.py:432: FutureWarning: Default solver will be changed to 'lbfgs' in 0.22. Specify a solver to silence this warning.\n",
      "  FutureWarning)\n",
      "C:\\Users\\dakin\\Anaconda3\\lib\\site-packages\\sklearn\\linear_model\\logistic.py:432: FutureWarning: Default solver will be changed to 'lbfgs' in 0.22. Specify a solver to silence this warning.\n",
      "  FutureWarning)\n",
      "C:\\Users\\dakin\\Anaconda3\\lib\\site-packages\\sklearn\\linear_model\\logistic.py:432: FutureWarning: Default solver will be changed to 'lbfgs' in 0.22. Specify a solver to silence this warning.\n",
      "  FutureWarning)\n",
      "C:\\Users\\dakin\\Anaconda3\\lib\\site-packages\\sklearn\\linear_model\\logistic.py:432: FutureWarning: Default solver will be changed to 'lbfgs' in 0.22. Specify a solver to silence this warning.\n",
      "  FutureWarning)\n",
      "C:\\Users\\dakin\\Anaconda3\\lib\\site-packages\\sklearn\\linear_model\\logistic.py:432: FutureWarning: Default solver will be changed to 'lbfgs' in 0.22. Specify a solver to silence this warning.\n",
      "  FutureWarning)\n",
      "C:\\Users\\dakin\\Anaconda3\\lib\\site-packages\\sklearn\\linear_model\\logistic.py:432: FutureWarning: Default solver will be changed to 'lbfgs' in 0.22. Specify a solver to silence this warning.\n",
      "  FutureWarning)\n",
      "C:\\Users\\dakin\\Anaconda3\\lib\\site-packages\\sklearn\\linear_model\\logistic.py:432: FutureWarning: Default solver will be changed to 'lbfgs' in 0.22. Specify a solver to silence this warning.\n",
      "  FutureWarning)\n",
      "C:\\Users\\dakin\\Anaconda3\\lib\\site-packages\\sklearn\\linear_model\\logistic.py:432: FutureWarning: Default solver will be changed to 'lbfgs' in 0.22. Specify a solver to silence this warning.\n",
      "  FutureWarning)\n",
      "C:\\Users\\dakin\\Anaconda3\\lib\\site-packages\\sklearn\\linear_model\\logistic.py:432: FutureWarning: Default solver will be changed to 'lbfgs' in 0.22. Specify a solver to silence this warning.\n",
      "  FutureWarning)\n",
      "C:\\Users\\dakin\\Anaconda3\\lib\\site-packages\\sklearn\\linear_model\\logistic.py:432: FutureWarning: Default solver will be changed to 'lbfgs' in 0.22. Specify a solver to silence this warning.\n",
      "  FutureWarning)\n",
      "C:\\Users\\dakin\\Anaconda3\\lib\\site-packages\\sklearn\\linear_model\\logistic.py:432: FutureWarning: Default solver will be changed to 'lbfgs' in 0.22. Specify a solver to silence this warning.\n",
      "  FutureWarning)\n",
      "C:\\Users\\dakin\\Anaconda3\\lib\\site-packages\\sklearn\\linear_model\\logistic.py:432: FutureWarning: Default solver will be changed to 'lbfgs' in 0.22. Specify a solver to silence this warning.\n",
      "  FutureWarning)\n"
     ]
    },
    {
     "name": "stderr",
     "output_type": "stream",
     "text": [
      "C:\\Users\\dakin\\Anaconda3\\lib\\site-packages\\sklearn\\linear_model\\logistic.py:432: FutureWarning: Default solver will be changed to 'lbfgs' in 0.22. Specify a solver to silence this warning.\n",
      "  FutureWarning)\n",
      "C:\\Users\\dakin\\Anaconda3\\lib\\site-packages\\sklearn\\linear_model\\logistic.py:432: FutureWarning: Default solver will be changed to 'lbfgs' in 0.22. Specify a solver to silence this warning.\n",
      "  FutureWarning)\n",
      "C:\\Users\\dakin\\Anaconda3\\lib\\site-packages\\sklearn\\linear_model\\logistic.py:432: FutureWarning: Default solver will be changed to 'lbfgs' in 0.22. Specify a solver to silence this warning.\n",
      "  FutureWarning)\n",
      "C:\\Users\\dakin\\Anaconda3\\lib\\site-packages\\sklearn\\linear_model\\logistic.py:432: FutureWarning: Default solver will be changed to 'lbfgs' in 0.22. Specify a solver to silence this warning.\n",
      "  FutureWarning)\n",
      "C:\\Users\\dakin\\Anaconda3\\lib\\site-packages\\sklearn\\linear_model\\logistic.py:432: FutureWarning: Default solver will be changed to 'lbfgs' in 0.22. Specify a solver to silence this warning.\n",
      "  FutureWarning)\n",
      "C:\\Users\\dakin\\Anaconda3\\lib\\site-packages\\sklearn\\linear_model\\logistic.py:432: FutureWarning: Default solver will be changed to 'lbfgs' in 0.22. Specify a solver to silence this warning.\n",
      "  FutureWarning)\n",
      "C:\\Users\\dakin\\Anaconda3\\lib\\site-packages\\sklearn\\linear_model\\logistic.py:432: FutureWarning: Default solver will be changed to 'lbfgs' in 0.22. Specify a solver to silence this warning.\n",
      "  FutureWarning)\n",
      "C:\\Users\\dakin\\Anaconda3\\lib\\site-packages\\sklearn\\linear_model\\logistic.py:432: FutureWarning: Default solver will be changed to 'lbfgs' in 0.22. Specify a solver to silence this warning.\n",
      "  FutureWarning)\n",
      "C:\\Users\\dakin\\Anaconda3\\lib\\site-packages\\sklearn\\linear_model\\logistic.py:432: FutureWarning: Default solver will be changed to 'lbfgs' in 0.22. Specify a solver to silence this warning.\n",
      "  FutureWarning)\n",
      "C:\\Users\\dakin\\Anaconda3\\lib\\site-packages\\sklearn\\linear_model\\logistic.py:432: FutureWarning: Default solver will be changed to 'lbfgs' in 0.22. Specify a solver to silence this warning.\n",
      "  FutureWarning)\n",
      "C:\\Users\\dakin\\Anaconda3\\lib\\site-packages\\sklearn\\linear_model\\logistic.py:432: FutureWarning: Default solver will be changed to 'lbfgs' in 0.22. Specify a solver to silence this warning.\n",
      "  FutureWarning)\n",
      "C:\\Users\\dakin\\Anaconda3\\lib\\site-packages\\sklearn\\linear_model\\logistic.py:432: FutureWarning: Default solver will be changed to 'lbfgs' in 0.22. Specify a solver to silence this warning.\n",
      "  FutureWarning)\n",
      "C:\\Users\\dakin\\Anaconda3\\lib\\site-packages\\sklearn\\linear_model\\logistic.py:432: FutureWarning: Default solver will be changed to 'lbfgs' in 0.22. Specify a solver to silence this warning.\n",
      "  FutureWarning)\n",
      "C:\\Users\\dakin\\Anaconda3\\lib\\site-packages\\sklearn\\linear_model\\logistic.py:432: FutureWarning: Default solver will be changed to 'lbfgs' in 0.22. Specify a solver to silence this warning.\n",
      "  FutureWarning)\n",
      "C:\\Users\\dakin\\Anaconda3\\lib\\site-packages\\sklearn\\linear_model\\logistic.py:432: FutureWarning: Default solver will be changed to 'lbfgs' in 0.22. Specify a solver to silence this warning.\n",
      "  FutureWarning)\n",
      "C:\\Users\\dakin\\Anaconda3\\lib\\site-packages\\sklearn\\linear_model\\logistic.py:432: FutureWarning: Default solver will be changed to 'lbfgs' in 0.22. Specify a solver to silence this warning.\n",
      "  FutureWarning)\n",
      "C:\\Users\\dakin\\Anaconda3\\lib\\site-packages\\sklearn\\linear_model\\logistic.py:432: FutureWarning: Default solver will be changed to 'lbfgs' in 0.22. Specify a solver to silence this warning.\n",
      "  FutureWarning)\n",
      "C:\\Users\\dakin\\Anaconda3\\lib\\site-packages\\sklearn\\linear_model\\logistic.py:432: FutureWarning: Default solver will be changed to 'lbfgs' in 0.22. Specify a solver to silence this warning.\n",
      "  FutureWarning)\n",
      "C:\\Users\\dakin\\Anaconda3\\lib\\site-packages\\sklearn\\linear_model\\logistic.py:432: FutureWarning: Default solver will be changed to 'lbfgs' in 0.22. Specify a solver to silence this warning.\n",
      "  FutureWarning)\n",
      "C:\\Users\\dakin\\Anaconda3\\lib\\site-packages\\sklearn\\linear_model\\logistic.py:432: FutureWarning: Default solver will be changed to 'lbfgs' in 0.22. Specify a solver to silence this warning.\n",
      "  FutureWarning)\n",
      "C:\\Users\\dakin\\Anaconda3\\lib\\site-packages\\sklearn\\linear_model\\logistic.py:432: FutureWarning: Default solver will be changed to 'lbfgs' in 0.22. Specify a solver to silence this warning.\n",
      "  FutureWarning)\n",
      "C:\\Users\\dakin\\Anaconda3\\lib\\site-packages\\sklearn\\linear_model\\logistic.py:432: FutureWarning: Default solver will be changed to 'lbfgs' in 0.22. Specify a solver to silence this warning.\n",
      "  FutureWarning)\n",
      "C:\\Users\\dakin\\Anaconda3\\lib\\site-packages\\sklearn\\linear_model\\logistic.py:432: FutureWarning: Default solver will be changed to 'lbfgs' in 0.22. Specify a solver to silence this warning.\n",
      "  FutureWarning)\n",
      "C:\\Users\\dakin\\Anaconda3\\lib\\site-packages\\sklearn\\linear_model\\logistic.py:432: FutureWarning: Default solver will be changed to 'lbfgs' in 0.22. Specify a solver to silence this warning.\n",
      "  FutureWarning)\n",
      "C:\\Users\\dakin\\Anaconda3\\lib\\site-packages\\sklearn\\linear_model\\logistic.py:432: FutureWarning: Default solver will be changed to 'lbfgs' in 0.22. Specify a solver to silence this warning.\n",
      "  FutureWarning)\n",
      "C:\\Users\\dakin\\Anaconda3\\lib\\site-packages\\sklearn\\linear_model\\logistic.py:432: FutureWarning: Default solver will be changed to 'lbfgs' in 0.22. Specify a solver to silence this warning.\n",
      "  FutureWarning)\n",
      "C:\\Users\\dakin\\Anaconda3\\lib\\site-packages\\sklearn\\linear_model\\logistic.py:432: FutureWarning: Default solver will be changed to 'lbfgs' in 0.22. Specify a solver to silence this warning.\n",
      "  FutureWarning)\n",
      "C:\\Users\\dakin\\Anaconda3\\lib\\site-packages\\sklearn\\linear_model\\logistic.py:432: FutureWarning: Default solver will be changed to 'lbfgs' in 0.22. Specify a solver to silence this warning.\n",
      "  FutureWarning)\n",
      "C:\\Users\\dakin\\Anaconda3\\lib\\site-packages\\sklearn\\linear_model\\logistic.py:432: FutureWarning: Default solver will be changed to 'lbfgs' in 0.22. Specify a solver to silence this warning.\n",
      "  FutureWarning)\n",
      "C:\\Users\\dakin\\Anaconda3\\lib\\site-packages\\sklearn\\linear_model\\logistic.py:432: FutureWarning: Default solver will be changed to 'lbfgs' in 0.22. Specify a solver to silence this warning.\n",
      "  FutureWarning)\n",
      "C:\\Users\\dakin\\Anaconda3\\lib\\site-packages\\sklearn\\linear_model\\logistic.py:432: FutureWarning: Default solver will be changed to 'lbfgs' in 0.22. Specify a solver to silence this warning.\n",
      "  FutureWarning)\n",
      "C:\\Users\\dakin\\Anaconda3\\lib\\site-packages\\sklearn\\linear_model\\logistic.py:432: FutureWarning: Default solver will be changed to 'lbfgs' in 0.22. Specify a solver to silence this warning.\n",
      "  FutureWarning)\n",
      "C:\\Users\\dakin\\Anaconda3\\lib\\site-packages\\sklearn\\linear_model\\logistic.py:432: FutureWarning: Default solver will be changed to 'lbfgs' in 0.22. Specify a solver to silence this warning.\n",
      "  FutureWarning)\n",
      "C:\\Users\\dakin\\Anaconda3\\lib\\site-packages\\sklearn\\linear_model\\logistic.py:432: FutureWarning: Default solver will be changed to 'lbfgs' in 0.22. Specify a solver to silence this warning.\n",
      "  FutureWarning)\n",
      "C:\\Users\\dakin\\Anaconda3\\lib\\site-packages\\sklearn\\linear_model\\logistic.py:432: FutureWarning: Default solver will be changed to 'lbfgs' in 0.22. Specify a solver to silence this warning.\n",
      "  FutureWarning)\n",
      "C:\\Users\\dakin\\Anaconda3\\lib\\site-packages\\sklearn\\linear_model\\logistic.py:432: FutureWarning: Default solver will be changed to 'lbfgs' in 0.22. Specify a solver to silence this warning.\n",
      "  FutureWarning)\n",
      "C:\\Users\\dakin\\Anaconda3\\lib\\site-packages\\sklearn\\linear_model\\logistic.py:432: FutureWarning: Default solver will be changed to 'lbfgs' in 0.22. Specify a solver to silence this warning.\n",
      "  FutureWarning)\n",
      "C:\\Users\\dakin\\Anaconda3\\lib\\site-packages\\sklearn\\linear_model\\logistic.py:432: FutureWarning: Default solver will be changed to 'lbfgs' in 0.22. Specify a solver to silence this warning.\n",
      "  FutureWarning)\n",
      "C:\\Users\\dakin\\Anaconda3\\lib\\site-packages\\sklearn\\linear_model\\logistic.py:432: FutureWarning: Default solver will be changed to 'lbfgs' in 0.22. Specify a solver to silence this warning.\n",
      "  FutureWarning)\n",
      "C:\\Users\\dakin\\Anaconda3\\lib\\site-packages\\sklearn\\linear_model\\logistic.py:432: FutureWarning: Default solver will be changed to 'lbfgs' in 0.22. Specify a solver to silence this warning.\n",
      "  FutureWarning)\n"
     ]
    },
    {
     "name": "stderr",
     "output_type": "stream",
     "text": [
      "C:\\Users\\dakin\\Anaconda3\\lib\\site-packages\\sklearn\\linear_model\\logistic.py:432: FutureWarning: Default solver will be changed to 'lbfgs' in 0.22. Specify a solver to silence this warning.\n",
      "  FutureWarning)\n",
      "C:\\Users\\dakin\\Anaconda3\\lib\\site-packages\\sklearn\\linear_model\\logistic.py:432: FutureWarning: Default solver will be changed to 'lbfgs' in 0.22. Specify a solver to silence this warning.\n",
      "  FutureWarning)\n",
      "C:\\Users\\dakin\\Anaconda3\\lib\\site-packages\\sklearn\\linear_model\\logistic.py:432: FutureWarning: Default solver will be changed to 'lbfgs' in 0.22. Specify a solver to silence this warning.\n",
      "  FutureWarning)\n",
      "C:\\Users\\dakin\\Anaconda3\\lib\\site-packages\\sklearn\\linear_model\\logistic.py:432: FutureWarning: Default solver will be changed to 'lbfgs' in 0.22. Specify a solver to silence this warning.\n",
      "  FutureWarning)\n",
      "C:\\Users\\dakin\\Anaconda3\\lib\\site-packages\\sklearn\\linear_model\\logistic.py:432: FutureWarning: Default solver will be changed to 'lbfgs' in 0.22. Specify a solver to silence this warning.\n",
      "  FutureWarning)\n",
      "C:\\Users\\dakin\\Anaconda3\\lib\\site-packages\\sklearn\\linear_model\\logistic.py:432: FutureWarning: Default solver will be changed to 'lbfgs' in 0.22. Specify a solver to silence this warning.\n",
      "  FutureWarning)\n",
      "C:\\Users\\dakin\\Anaconda3\\lib\\site-packages\\sklearn\\linear_model\\logistic.py:432: FutureWarning: Default solver will be changed to 'lbfgs' in 0.22. Specify a solver to silence this warning.\n",
      "  FutureWarning)\n",
      "C:\\Users\\dakin\\Anaconda3\\lib\\site-packages\\sklearn\\linear_model\\logistic.py:432: FutureWarning: Default solver will be changed to 'lbfgs' in 0.22. Specify a solver to silence this warning.\n",
      "  FutureWarning)\n",
      "C:\\Users\\dakin\\Anaconda3\\lib\\site-packages\\sklearn\\linear_model\\logistic.py:432: FutureWarning: Default solver will be changed to 'lbfgs' in 0.22. Specify a solver to silence this warning.\n",
      "  FutureWarning)\n",
      "C:\\Users\\dakin\\Anaconda3\\lib\\site-packages\\sklearn\\linear_model\\logistic.py:432: FutureWarning: Default solver will be changed to 'lbfgs' in 0.22. Specify a solver to silence this warning.\n",
      "  FutureWarning)\n",
      "C:\\Users\\dakin\\Anaconda3\\lib\\site-packages\\sklearn\\linear_model\\logistic.py:432: FutureWarning: Default solver will be changed to 'lbfgs' in 0.22. Specify a solver to silence this warning.\n",
      "  FutureWarning)\n",
      "C:\\Users\\dakin\\Anaconda3\\lib\\site-packages\\sklearn\\linear_model\\logistic.py:432: FutureWarning: Default solver will be changed to 'lbfgs' in 0.22. Specify a solver to silence this warning.\n",
      "  FutureWarning)\n",
      "C:\\Users\\dakin\\Anaconda3\\lib\\site-packages\\sklearn\\linear_model\\logistic.py:432: FutureWarning: Default solver will be changed to 'lbfgs' in 0.22. Specify a solver to silence this warning.\n",
      "  FutureWarning)\n",
      "C:\\Users\\dakin\\Anaconda3\\lib\\site-packages\\sklearn\\linear_model\\logistic.py:432: FutureWarning: Default solver will be changed to 'lbfgs' in 0.22. Specify a solver to silence this warning.\n",
      "  FutureWarning)\n",
      "C:\\Users\\dakin\\Anaconda3\\lib\\site-packages\\sklearn\\linear_model\\logistic.py:432: FutureWarning: Default solver will be changed to 'lbfgs' in 0.22. Specify a solver to silence this warning.\n",
      "  FutureWarning)\n",
      "C:\\Users\\dakin\\Anaconda3\\lib\\site-packages\\sklearn\\linear_model\\logistic.py:432: FutureWarning: Default solver will be changed to 'lbfgs' in 0.22. Specify a solver to silence this warning.\n",
      "  FutureWarning)\n",
      "C:\\Users\\dakin\\Anaconda3\\lib\\site-packages\\sklearn\\linear_model\\logistic.py:432: FutureWarning: Default solver will be changed to 'lbfgs' in 0.22. Specify a solver to silence this warning.\n",
      "  FutureWarning)\n",
      "C:\\Users\\dakin\\Anaconda3\\lib\\site-packages\\sklearn\\linear_model\\logistic.py:432: FutureWarning: Default solver will be changed to 'lbfgs' in 0.22. Specify a solver to silence this warning.\n",
      "  FutureWarning)\n",
      "C:\\Users\\dakin\\Anaconda3\\lib\\site-packages\\sklearn\\linear_model\\logistic.py:432: FutureWarning: Default solver will be changed to 'lbfgs' in 0.22. Specify a solver to silence this warning.\n",
      "  FutureWarning)\n",
      "C:\\Users\\dakin\\Anaconda3\\lib\\site-packages\\sklearn\\linear_model\\logistic.py:432: FutureWarning: Default solver will be changed to 'lbfgs' in 0.22. Specify a solver to silence this warning.\n",
      "  FutureWarning)\n",
      "C:\\Users\\dakin\\Anaconda3\\lib\\site-packages\\sklearn\\linear_model\\logistic.py:432: FutureWarning: Default solver will be changed to 'lbfgs' in 0.22. Specify a solver to silence this warning.\n",
      "  FutureWarning)\n",
      "C:\\Users\\dakin\\Anaconda3\\lib\\site-packages\\sklearn\\linear_model\\logistic.py:432: FutureWarning: Default solver will be changed to 'lbfgs' in 0.22. Specify a solver to silence this warning.\n",
      "  FutureWarning)\n",
      "C:\\Users\\dakin\\Anaconda3\\lib\\site-packages\\sklearn\\linear_model\\logistic.py:432: FutureWarning: Default solver will be changed to 'lbfgs' in 0.22. Specify a solver to silence this warning.\n",
      "  FutureWarning)\n",
      "C:\\Users\\dakin\\Anaconda3\\lib\\site-packages\\sklearn\\linear_model\\logistic.py:432: FutureWarning: Default solver will be changed to 'lbfgs' in 0.22. Specify a solver to silence this warning.\n",
      "  FutureWarning)\n",
      "C:\\Users\\dakin\\Anaconda3\\lib\\site-packages\\sklearn\\linear_model\\logistic.py:432: FutureWarning: Default solver will be changed to 'lbfgs' in 0.22. Specify a solver to silence this warning.\n",
      "  FutureWarning)\n",
      "C:\\Users\\dakin\\Anaconda3\\lib\\site-packages\\sklearn\\linear_model\\logistic.py:432: FutureWarning: Default solver will be changed to 'lbfgs' in 0.22. Specify a solver to silence this warning.\n",
      "  FutureWarning)\n",
      "C:\\Users\\dakin\\Anaconda3\\lib\\site-packages\\sklearn\\linear_model\\logistic.py:432: FutureWarning: Default solver will be changed to 'lbfgs' in 0.22. Specify a solver to silence this warning.\n",
      "  FutureWarning)\n",
      "C:\\Users\\dakin\\Anaconda3\\lib\\site-packages\\sklearn\\linear_model\\logistic.py:432: FutureWarning: Default solver will be changed to 'lbfgs' in 0.22. Specify a solver to silence this warning.\n",
      "  FutureWarning)\n",
      "C:\\Users\\dakin\\Anaconda3\\lib\\site-packages\\sklearn\\linear_model\\logistic.py:432: FutureWarning: Default solver will be changed to 'lbfgs' in 0.22. Specify a solver to silence this warning.\n",
      "  FutureWarning)\n",
      "C:\\Users\\dakin\\Anaconda3\\lib\\site-packages\\sklearn\\linear_model\\logistic.py:432: FutureWarning: Default solver will be changed to 'lbfgs' in 0.22. Specify a solver to silence this warning.\n",
      "  FutureWarning)\n",
      "C:\\Users\\dakin\\Anaconda3\\lib\\site-packages\\sklearn\\linear_model\\logistic.py:432: FutureWarning: Default solver will be changed to 'lbfgs' in 0.22. Specify a solver to silence this warning.\n",
      "  FutureWarning)\n",
      "C:\\Users\\dakin\\Anaconda3\\lib\\site-packages\\sklearn\\linear_model\\logistic.py:432: FutureWarning: Default solver will be changed to 'lbfgs' in 0.22. Specify a solver to silence this warning.\n",
      "  FutureWarning)\n",
      "C:\\Users\\dakin\\Anaconda3\\lib\\site-packages\\sklearn\\linear_model\\logistic.py:432: FutureWarning: Default solver will be changed to 'lbfgs' in 0.22. Specify a solver to silence this warning.\n",
      "  FutureWarning)\n",
      "C:\\Users\\dakin\\Anaconda3\\lib\\site-packages\\sklearn\\linear_model\\logistic.py:432: FutureWarning: Default solver will be changed to 'lbfgs' in 0.22. Specify a solver to silence this warning.\n",
      "  FutureWarning)\n",
      "C:\\Users\\dakin\\Anaconda3\\lib\\site-packages\\sklearn\\linear_model\\logistic.py:432: FutureWarning: Default solver will be changed to 'lbfgs' in 0.22. Specify a solver to silence this warning.\n",
      "  FutureWarning)\n",
      "C:\\Users\\dakin\\Anaconda3\\lib\\site-packages\\sklearn\\linear_model\\logistic.py:432: FutureWarning: Default solver will be changed to 'lbfgs' in 0.22. Specify a solver to silence this warning.\n",
      "  FutureWarning)\n",
      "C:\\Users\\dakin\\Anaconda3\\lib\\site-packages\\sklearn\\linear_model\\logistic.py:432: FutureWarning: Default solver will be changed to 'lbfgs' in 0.22. Specify a solver to silence this warning.\n",
      "  FutureWarning)\n",
      "C:\\Users\\dakin\\Anaconda3\\lib\\site-packages\\sklearn\\linear_model\\logistic.py:432: FutureWarning: Default solver will be changed to 'lbfgs' in 0.22. Specify a solver to silence this warning.\n",
      "  FutureWarning)\n",
      "C:\\Users\\dakin\\Anaconda3\\lib\\site-packages\\sklearn\\linear_model\\logistic.py:432: FutureWarning: Default solver will be changed to 'lbfgs' in 0.22. Specify a solver to silence this warning.\n",
      "  FutureWarning)\n",
      "C:\\Users\\dakin\\Anaconda3\\lib\\site-packages\\sklearn\\linear_model\\logistic.py:432: FutureWarning: Default solver will be changed to 'lbfgs' in 0.22. Specify a solver to silence this warning.\n",
      "  FutureWarning)\n"
     ]
    },
    {
     "name": "stderr",
     "output_type": "stream",
     "text": [
      "C:\\Users\\dakin\\Anaconda3\\lib\\site-packages\\sklearn\\linear_model\\logistic.py:432: FutureWarning: Default solver will be changed to 'lbfgs' in 0.22. Specify a solver to silence this warning.\n",
      "  FutureWarning)\n",
      "C:\\Users\\dakin\\Anaconda3\\lib\\site-packages\\sklearn\\linear_model\\logistic.py:432: FutureWarning: Default solver will be changed to 'lbfgs' in 0.22. Specify a solver to silence this warning.\n",
      "  FutureWarning)\n",
      "C:\\Users\\dakin\\Anaconda3\\lib\\site-packages\\sklearn\\linear_model\\logistic.py:432: FutureWarning: Default solver will be changed to 'lbfgs' in 0.22. Specify a solver to silence this warning.\n",
      "  FutureWarning)\n",
      "C:\\Users\\dakin\\Anaconda3\\lib\\site-packages\\sklearn\\linear_model\\logistic.py:432: FutureWarning: Default solver will be changed to 'lbfgs' in 0.22. Specify a solver to silence this warning.\n",
      "  FutureWarning)\n",
      "C:\\Users\\dakin\\Anaconda3\\lib\\site-packages\\sklearn\\linear_model\\logistic.py:432: FutureWarning: Default solver will be changed to 'lbfgs' in 0.22. Specify a solver to silence this warning.\n",
      "  FutureWarning)\n",
      "C:\\Users\\dakin\\Anaconda3\\lib\\site-packages\\sklearn\\linear_model\\logistic.py:432: FutureWarning: Default solver will be changed to 'lbfgs' in 0.22. Specify a solver to silence this warning.\n",
      "  FutureWarning)\n",
      "C:\\Users\\dakin\\Anaconda3\\lib\\site-packages\\sklearn\\linear_model\\logistic.py:432: FutureWarning: Default solver will be changed to 'lbfgs' in 0.22. Specify a solver to silence this warning.\n",
      "  FutureWarning)\n",
      "C:\\Users\\dakin\\Anaconda3\\lib\\site-packages\\sklearn\\linear_model\\logistic.py:432: FutureWarning: Default solver will be changed to 'lbfgs' in 0.22. Specify a solver to silence this warning.\n",
      "  FutureWarning)\n",
      "C:\\Users\\dakin\\Anaconda3\\lib\\site-packages\\sklearn\\linear_model\\logistic.py:432: FutureWarning: Default solver will be changed to 'lbfgs' in 0.22. Specify a solver to silence this warning.\n",
      "  FutureWarning)\n",
      "C:\\Users\\dakin\\Anaconda3\\lib\\site-packages\\sklearn\\linear_model\\logistic.py:432: FutureWarning: Default solver will be changed to 'lbfgs' in 0.22. Specify a solver to silence this warning.\n",
      "  FutureWarning)\n",
      "C:\\Users\\dakin\\Anaconda3\\lib\\site-packages\\sklearn\\linear_model\\logistic.py:432: FutureWarning: Default solver will be changed to 'lbfgs' in 0.22. Specify a solver to silence this warning.\n",
      "  FutureWarning)\n",
      "C:\\Users\\dakin\\Anaconda3\\lib\\site-packages\\sklearn\\linear_model\\logistic.py:432: FutureWarning: Default solver will be changed to 'lbfgs' in 0.22. Specify a solver to silence this warning.\n",
      "  FutureWarning)\n",
      "C:\\Users\\dakin\\Anaconda3\\lib\\site-packages\\sklearn\\linear_model\\logistic.py:432: FutureWarning: Default solver will be changed to 'lbfgs' in 0.22. Specify a solver to silence this warning.\n",
      "  FutureWarning)\n",
      "C:\\Users\\dakin\\Anaconda3\\lib\\site-packages\\sklearn\\linear_model\\logistic.py:432: FutureWarning: Default solver will be changed to 'lbfgs' in 0.22. Specify a solver to silence this warning.\n",
      "  FutureWarning)\n",
      "C:\\Users\\dakin\\Anaconda3\\lib\\site-packages\\sklearn\\linear_model\\logistic.py:432: FutureWarning: Default solver will be changed to 'lbfgs' in 0.22. Specify a solver to silence this warning.\n",
      "  FutureWarning)\n",
      "C:\\Users\\dakin\\Anaconda3\\lib\\site-packages\\sklearn\\linear_model\\logistic.py:432: FutureWarning: Default solver will be changed to 'lbfgs' in 0.22. Specify a solver to silence this warning.\n",
      "  FutureWarning)\n",
      "C:\\Users\\dakin\\Anaconda3\\lib\\site-packages\\sklearn\\linear_model\\logistic.py:432: FutureWarning: Default solver will be changed to 'lbfgs' in 0.22. Specify a solver to silence this warning.\n",
      "  FutureWarning)\n",
      "C:\\Users\\dakin\\Anaconda3\\lib\\site-packages\\sklearn\\linear_model\\logistic.py:432: FutureWarning: Default solver will be changed to 'lbfgs' in 0.22. Specify a solver to silence this warning.\n",
      "  FutureWarning)\n",
      "C:\\Users\\dakin\\Anaconda3\\lib\\site-packages\\sklearn\\linear_model\\logistic.py:432: FutureWarning: Default solver will be changed to 'lbfgs' in 0.22. Specify a solver to silence this warning.\n",
      "  FutureWarning)\n",
      "C:\\Users\\dakin\\Anaconda3\\lib\\site-packages\\sklearn\\linear_model\\logistic.py:432: FutureWarning: Default solver will be changed to 'lbfgs' in 0.22. Specify a solver to silence this warning.\n",
      "  FutureWarning)\n",
      "C:\\Users\\dakin\\Anaconda3\\lib\\site-packages\\sklearn\\linear_model\\logistic.py:432: FutureWarning: Default solver will be changed to 'lbfgs' in 0.22. Specify a solver to silence this warning.\n",
      "  FutureWarning)\n",
      "C:\\Users\\dakin\\Anaconda3\\lib\\site-packages\\sklearn\\linear_model\\logistic.py:432: FutureWarning: Default solver will be changed to 'lbfgs' in 0.22. Specify a solver to silence this warning.\n",
      "  FutureWarning)\n",
      "C:\\Users\\dakin\\Anaconda3\\lib\\site-packages\\sklearn\\linear_model\\logistic.py:432: FutureWarning: Default solver will be changed to 'lbfgs' in 0.22. Specify a solver to silence this warning.\n",
      "  FutureWarning)\n",
      "C:\\Users\\dakin\\Anaconda3\\lib\\site-packages\\sklearn\\linear_model\\logistic.py:432: FutureWarning: Default solver will be changed to 'lbfgs' in 0.22. Specify a solver to silence this warning.\n",
      "  FutureWarning)\n",
      "C:\\Users\\dakin\\Anaconda3\\lib\\site-packages\\sklearn\\linear_model\\logistic.py:432: FutureWarning: Default solver will be changed to 'lbfgs' in 0.22. Specify a solver to silence this warning.\n",
      "  FutureWarning)\n",
      "C:\\Users\\dakin\\Anaconda3\\lib\\site-packages\\sklearn\\linear_model\\logistic.py:432: FutureWarning: Default solver will be changed to 'lbfgs' in 0.22. Specify a solver to silence this warning.\n",
      "  FutureWarning)\n",
      "C:\\Users\\dakin\\Anaconda3\\lib\\site-packages\\sklearn\\linear_model\\logistic.py:432: FutureWarning: Default solver will be changed to 'lbfgs' in 0.22. Specify a solver to silence this warning.\n",
      "  FutureWarning)\n",
      "C:\\Users\\dakin\\Anaconda3\\lib\\site-packages\\sklearn\\linear_model\\logistic.py:432: FutureWarning: Default solver will be changed to 'lbfgs' in 0.22. Specify a solver to silence this warning.\n",
      "  FutureWarning)\n",
      "C:\\Users\\dakin\\Anaconda3\\lib\\site-packages\\sklearn\\linear_model\\logistic.py:432: FutureWarning: Default solver will be changed to 'lbfgs' in 0.22. Specify a solver to silence this warning.\n",
      "  FutureWarning)\n",
      "C:\\Users\\dakin\\Anaconda3\\lib\\site-packages\\sklearn\\linear_model\\logistic.py:432: FutureWarning: Default solver will be changed to 'lbfgs' in 0.22. Specify a solver to silence this warning.\n",
      "  FutureWarning)\n",
      "C:\\Users\\dakin\\Anaconda3\\lib\\site-packages\\sklearn\\linear_model\\logistic.py:432: FutureWarning: Default solver will be changed to 'lbfgs' in 0.22. Specify a solver to silence this warning.\n",
      "  FutureWarning)\n",
      "C:\\Users\\dakin\\Anaconda3\\lib\\site-packages\\sklearn\\linear_model\\logistic.py:432: FutureWarning: Default solver will be changed to 'lbfgs' in 0.22. Specify a solver to silence this warning.\n",
      "  FutureWarning)\n",
      "C:\\Users\\dakin\\Anaconda3\\lib\\site-packages\\sklearn\\linear_model\\logistic.py:432: FutureWarning: Default solver will be changed to 'lbfgs' in 0.22. Specify a solver to silence this warning.\n",
      "  FutureWarning)\n",
      "C:\\Users\\dakin\\Anaconda3\\lib\\site-packages\\sklearn\\linear_model\\logistic.py:432: FutureWarning: Default solver will be changed to 'lbfgs' in 0.22. Specify a solver to silence this warning.\n",
      "  FutureWarning)\n",
      "C:\\Users\\dakin\\Anaconda3\\lib\\site-packages\\sklearn\\linear_model\\logistic.py:432: FutureWarning: Default solver will be changed to 'lbfgs' in 0.22. Specify a solver to silence this warning.\n",
      "  FutureWarning)\n",
      "C:\\Users\\dakin\\Anaconda3\\lib\\site-packages\\sklearn\\linear_model\\logistic.py:432: FutureWarning: Default solver will be changed to 'lbfgs' in 0.22. Specify a solver to silence this warning.\n",
      "  FutureWarning)\n",
      "C:\\Users\\dakin\\Anaconda3\\lib\\site-packages\\sklearn\\linear_model\\logistic.py:432: FutureWarning: Default solver will be changed to 'lbfgs' in 0.22. Specify a solver to silence this warning.\n",
      "  FutureWarning)\n",
      "C:\\Users\\dakin\\Anaconda3\\lib\\site-packages\\sklearn\\linear_model\\logistic.py:432: FutureWarning: Default solver will be changed to 'lbfgs' in 0.22. Specify a solver to silence this warning.\n",
      "  FutureWarning)\n",
      "C:\\Users\\dakin\\Anaconda3\\lib\\site-packages\\sklearn\\linear_model\\logistic.py:432: FutureWarning: Default solver will be changed to 'lbfgs' in 0.22. Specify a solver to silence this warning.\n",
      "  FutureWarning)\n",
      "C:\\Users\\dakin\\Anaconda3\\lib\\site-packages\\sklearn\\linear_model\\logistic.py:432: FutureWarning: Default solver will be changed to 'lbfgs' in 0.22. Specify a solver to silence this warning.\n",
      "  FutureWarning)\n"
     ]
    },
    {
     "name": "stderr",
     "output_type": "stream",
     "text": [
      "C:\\Users\\dakin\\Anaconda3\\lib\\site-packages\\sklearn\\linear_model\\logistic.py:432: FutureWarning: Default solver will be changed to 'lbfgs' in 0.22. Specify a solver to silence this warning.\n",
      "  FutureWarning)\n",
      "C:\\Users\\dakin\\Anaconda3\\lib\\site-packages\\sklearn\\linear_model\\logistic.py:432: FutureWarning: Default solver will be changed to 'lbfgs' in 0.22. Specify a solver to silence this warning.\n",
      "  FutureWarning)\n",
      "C:\\Users\\dakin\\Anaconda3\\lib\\site-packages\\sklearn\\linear_model\\logistic.py:432: FutureWarning: Default solver will be changed to 'lbfgs' in 0.22. Specify a solver to silence this warning.\n",
      "  FutureWarning)\n",
      "C:\\Users\\dakin\\Anaconda3\\lib\\site-packages\\sklearn\\linear_model\\logistic.py:432: FutureWarning: Default solver will be changed to 'lbfgs' in 0.22. Specify a solver to silence this warning.\n",
      "  FutureWarning)\n",
      "C:\\Users\\dakin\\Anaconda3\\lib\\site-packages\\sklearn\\linear_model\\logistic.py:432: FutureWarning: Default solver will be changed to 'lbfgs' in 0.22. Specify a solver to silence this warning.\n",
      "  FutureWarning)\n",
      "C:\\Users\\dakin\\Anaconda3\\lib\\site-packages\\sklearn\\linear_model\\logistic.py:432: FutureWarning: Default solver will be changed to 'lbfgs' in 0.22. Specify a solver to silence this warning.\n",
      "  FutureWarning)\n",
      "C:\\Users\\dakin\\Anaconda3\\lib\\site-packages\\sklearn\\linear_model\\logistic.py:432: FutureWarning: Default solver will be changed to 'lbfgs' in 0.22. Specify a solver to silence this warning.\n",
      "  FutureWarning)\n",
      "C:\\Users\\dakin\\Anaconda3\\lib\\site-packages\\sklearn\\linear_model\\logistic.py:432: FutureWarning: Default solver will be changed to 'lbfgs' in 0.22. Specify a solver to silence this warning.\n",
      "  FutureWarning)\n",
      "C:\\Users\\dakin\\Anaconda3\\lib\\site-packages\\sklearn\\linear_model\\logistic.py:432: FutureWarning: Default solver will be changed to 'lbfgs' in 0.22. Specify a solver to silence this warning.\n",
      "  FutureWarning)\n",
      "C:\\Users\\dakin\\Anaconda3\\lib\\site-packages\\sklearn\\linear_model\\logistic.py:432: FutureWarning: Default solver will be changed to 'lbfgs' in 0.22. Specify a solver to silence this warning.\n",
      "  FutureWarning)\n",
      "C:\\Users\\dakin\\Anaconda3\\lib\\site-packages\\sklearn\\linear_model\\logistic.py:432: FutureWarning: Default solver will be changed to 'lbfgs' in 0.22. Specify a solver to silence this warning.\n",
      "  FutureWarning)\n",
      "C:\\Users\\dakin\\Anaconda3\\lib\\site-packages\\sklearn\\linear_model\\logistic.py:432: FutureWarning: Default solver will be changed to 'lbfgs' in 0.22. Specify a solver to silence this warning.\n",
      "  FutureWarning)\n",
      "C:\\Users\\dakin\\Anaconda3\\lib\\site-packages\\sklearn\\linear_model\\logistic.py:432: FutureWarning: Default solver will be changed to 'lbfgs' in 0.22. Specify a solver to silence this warning.\n",
      "  FutureWarning)\n",
      "C:\\Users\\dakin\\Anaconda3\\lib\\site-packages\\sklearn\\linear_model\\logistic.py:432: FutureWarning: Default solver will be changed to 'lbfgs' in 0.22. Specify a solver to silence this warning.\n",
      "  FutureWarning)\n",
      "C:\\Users\\dakin\\Anaconda3\\lib\\site-packages\\sklearn\\linear_model\\logistic.py:432: FutureWarning: Default solver will be changed to 'lbfgs' in 0.22. Specify a solver to silence this warning.\n",
      "  FutureWarning)\n",
      "C:\\Users\\dakin\\Anaconda3\\lib\\site-packages\\sklearn\\linear_model\\logistic.py:432: FutureWarning: Default solver will be changed to 'lbfgs' in 0.22. Specify a solver to silence this warning.\n",
      "  FutureWarning)\n",
      "C:\\Users\\dakin\\Anaconda3\\lib\\site-packages\\sklearn\\linear_model\\logistic.py:432: FutureWarning: Default solver will be changed to 'lbfgs' in 0.22. Specify a solver to silence this warning.\n",
      "  FutureWarning)\n",
      "C:\\Users\\dakin\\Anaconda3\\lib\\site-packages\\sklearn\\linear_model\\logistic.py:432: FutureWarning: Default solver will be changed to 'lbfgs' in 0.22. Specify a solver to silence this warning.\n",
      "  FutureWarning)\n",
      "C:\\Users\\dakin\\Anaconda3\\lib\\site-packages\\sklearn\\linear_model\\logistic.py:432: FutureWarning: Default solver will be changed to 'lbfgs' in 0.22. Specify a solver to silence this warning.\n",
      "  FutureWarning)\n",
      "C:\\Users\\dakin\\Anaconda3\\lib\\site-packages\\sklearn\\linear_model\\logistic.py:432: FutureWarning: Default solver will be changed to 'lbfgs' in 0.22. Specify a solver to silence this warning.\n",
      "  FutureWarning)\n",
      "C:\\Users\\dakin\\Anaconda3\\lib\\site-packages\\sklearn\\linear_model\\logistic.py:432: FutureWarning: Default solver will be changed to 'lbfgs' in 0.22. Specify a solver to silence this warning.\n",
      "  FutureWarning)\n",
      "C:\\Users\\dakin\\Anaconda3\\lib\\site-packages\\sklearn\\linear_model\\logistic.py:432: FutureWarning: Default solver will be changed to 'lbfgs' in 0.22. Specify a solver to silence this warning.\n",
      "  FutureWarning)\n",
      "C:\\Users\\dakin\\Anaconda3\\lib\\site-packages\\sklearn\\linear_model\\logistic.py:432: FutureWarning: Default solver will be changed to 'lbfgs' in 0.22. Specify a solver to silence this warning.\n",
      "  FutureWarning)\n",
      "C:\\Users\\dakin\\Anaconda3\\lib\\site-packages\\sklearn\\linear_model\\logistic.py:432: FutureWarning: Default solver will be changed to 'lbfgs' in 0.22. Specify a solver to silence this warning.\n",
      "  FutureWarning)\n",
      "C:\\Users\\dakin\\Anaconda3\\lib\\site-packages\\sklearn\\linear_model\\logistic.py:432: FutureWarning: Default solver will be changed to 'lbfgs' in 0.22. Specify a solver to silence this warning.\n",
      "  FutureWarning)\n",
      "C:\\Users\\dakin\\Anaconda3\\lib\\site-packages\\sklearn\\linear_model\\logistic.py:432: FutureWarning: Default solver will be changed to 'lbfgs' in 0.22. Specify a solver to silence this warning.\n",
      "  FutureWarning)\n",
      "C:\\Users\\dakin\\Anaconda3\\lib\\site-packages\\sklearn\\linear_model\\logistic.py:432: FutureWarning: Default solver will be changed to 'lbfgs' in 0.22. Specify a solver to silence this warning.\n",
      "  FutureWarning)\n",
      "C:\\Users\\dakin\\Anaconda3\\lib\\site-packages\\sklearn\\linear_model\\logistic.py:432: FutureWarning: Default solver will be changed to 'lbfgs' in 0.22. Specify a solver to silence this warning.\n",
      "  FutureWarning)\n",
      "C:\\Users\\dakin\\Anaconda3\\lib\\site-packages\\sklearn\\linear_model\\logistic.py:432: FutureWarning: Default solver will be changed to 'lbfgs' in 0.22. Specify a solver to silence this warning.\n",
      "  FutureWarning)\n",
      "C:\\Users\\dakin\\Anaconda3\\lib\\site-packages\\sklearn\\linear_model\\logistic.py:432: FutureWarning: Default solver will be changed to 'lbfgs' in 0.22. Specify a solver to silence this warning.\n",
      "  FutureWarning)\n",
      "C:\\Users\\dakin\\Anaconda3\\lib\\site-packages\\sklearn\\linear_model\\logistic.py:432: FutureWarning: Default solver will be changed to 'lbfgs' in 0.22. Specify a solver to silence this warning.\n",
      "  FutureWarning)\n",
      "C:\\Users\\dakin\\Anaconda3\\lib\\site-packages\\sklearn\\linear_model\\logistic.py:432: FutureWarning: Default solver will be changed to 'lbfgs' in 0.22. Specify a solver to silence this warning.\n",
      "  FutureWarning)\n",
      "C:\\Users\\dakin\\Anaconda3\\lib\\site-packages\\sklearn\\linear_model\\logistic.py:432: FutureWarning: Default solver will be changed to 'lbfgs' in 0.22. Specify a solver to silence this warning.\n",
      "  FutureWarning)\n",
      "C:\\Users\\dakin\\Anaconda3\\lib\\site-packages\\sklearn\\linear_model\\logistic.py:432: FutureWarning: Default solver will be changed to 'lbfgs' in 0.22. Specify a solver to silence this warning.\n",
      "  FutureWarning)\n",
      "C:\\Users\\dakin\\Anaconda3\\lib\\site-packages\\sklearn\\linear_model\\logistic.py:432: FutureWarning: Default solver will be changed to 'lbfgs' in 0.22. Specify a solver to silence this warning.\n",
      "  FutureWarning)\n",
      "C:\\Users\\dakin\\Anaconda3\\lib\\site-packages\\sklearn\\linear_model\\logistic.py:432: FutureWarning: Default solver will be changed to 'lbfgs' in 0.22. Specify a solver to silence this warning.\n",
      "  FutureWarning)\n",
      "C:\\Users\\dakin\\Anaconda3\\lib\\site-packages\\sklearn\\linear_model\\logistic.py:432: FutureWarning: Default solver will be changed to 'lbfgs' in 0.22. Specify a solver to silence this warning.\n",
      "  FutureWarning)\n",
      "C:\\Users\\dakin\\Anaconda3\\lib\\site-packages\\sklearn\\linear_model\\logistic.py:432: FutureWarning: Default solver will be changed to 'lbfgs' in 0.22. Specify a solver to silence this warning.\n",
      "  FutureWarning)\n",
      "C:\\Users\\dakin\\Anaconda3\\lib\\site-packages\\sklearn\\linear_model\\logistic.py:432: FutureWarning: Default solver will be changed to 'lbfgs' in 0.22. Specify a solver to silence this warning.\n",
      "  FutureWarning)\n",
      "C:\\Users\\dakin\\Anaconda3\\lib\\site-packages\\sklearn\\linear_model\\logistic.py:432: FutureWarning: Default solver will be changed to 'lbfgs' in 0.22. Specify a solver to silence this warning.\n",
      "  FutureWarning)\n"
     ]
    },
    {
     "name": "stderr",
     "output_type": "stream",
     "text": [
      "C:\\Users\\dakin\\Anaconda3\\lib\\site-packages\\sklearn\\linear_model\\logistic.py:432: FutureWarning: Default solver will be changed to 'lbfgs' in 0.22. Specify a solver to silence this warning.\n",
      "  FutureWarning)\n",
      "C:\\Users\\dakin\\Anaconda3\\lib\\site-packages\\sklearn\\linear_model\\logistic.py:432: FutureWarning: Default solver will be changed to 'lbfgs' in 0.22. Specify a solver to silence this warning.\n",
      "  FutureWarning)\n",
      "C:\\Users\\dakin\\Anaconda3\\lib\\site-packages\\sklearn\\linear_model\\logistic.py:432: FutureWarning: Default solver will be changed to 'lbfgs' in 0.22. Specify a solver to silence this warning.\n",
      "  FutureWarning)\n",
      "C:\\Users\\dakin\\Anaconda3\\lib\\site-packages\\sklearn\\linear_model\\logistic.py:432: FutureWarning: Default solver will be changed to 'lbfgs' in 0.22. Specify a solver to silence this warning.\n",
      "  FutureWarning)\n",
      "C:\\Users\\dakin\\Anaconda3\\lib\\site-packages\\sklearn\\linear_model\\logistic.py:432: FutureWarning: Default solver will be changed to 'lbfgs' in 0.22. Specify a solver to silence this warning.\n",
      "  FutureWarning)\n",
      "C:\\Users\\dakin\\Anaconda3\\lib\\site-packages\\sklearn\\linear_model\\logistic.py:432: FutureWarning: Default solver will be changed to 'lbfgs' in 0.22. Specify a solver to silence this warning.\n",
      "  FutureWarning)\n",
      "C:\\Users\\dakin\\Anaconda3\\lib\\site-packages\\sklearn\\linear_model\\logistic.py:432: FutureWarning: Default solver will be changed to 'lbfgs' in 0.22. Specify a solver to silence this warning.\n",
      "  FutureWarning)\n",
      "C:\\Users\\dakin\\Anaconda3\\lib\\site-packages\\sklearn\\linear_model\\logistic.py:432: FutureWarning: Default solver will be changed to 'lbfgs' in 0.22. Specify a solver to silence this warning.\n",
      "  FutureWarning)\n",
      "C:\\Users\\dakin\\Anaconda3\\lib\\site-packages\\sklearn\\linear_model\\logistic.py:432: FutureWarning: Default solver will be changed to 'lbfgs' in 0.22. Specify a solver to silence this warning.\n",
      "  FutureWarning)\n",
      "C:\\Users\\dakin\\Anaconda3\\lib\\site-packages\\sklearn\\linear_model\\logistic.py:432: FutureWarning: Default solver will be changed to 'lbfgs' in 0.22. Specify a solver to silence this warning.\n",
      "  FutureWarning)\n",
      "C:\\Users\\dakin\\Anaconda3\\lib\\site-packages\\sklearn\\linear_model\\logistic.py:432: FutureWarning: Default solver will be changed to 'lbfgs' in 0.22. Specify a solver to silence this warning.\n",
      "  FutureWarning)\n",
      "C:\\Users\\dakin\\Anaconda3\\lib\\site-packages\\sklearn\\linear_model\\logistic.py:432: FutureWarning: Default solver will be changed to 'lbfgs' in 0.22. Specify a solver to silence this warning.\n",
      "  FutureWarning)\n",
      "C:\\Users\\dakin\\Anaconda3\\lib\\site-packages\\sklearn\\linear_model\\logistic.py:432: FutureWarning: Default solver will be changed to 'lbfgs' in 0.22. Specify a solver to silence this warning.\n",
      "  FutureWarning)\n",
      "C:\\Users\\dakin\\Anaconda3\\lib\\site-packages\\sklearn\\linear_model\\logistic.py:432: FutureWarning: Default solver will be changed to 'lbfgs' in 0.22. Specify a solver to silence this warning.\n",
      "  FutureWarning)\n",
      "C:\\Users\\dakin\\Anaconda3\\lib\\site-packages\\sklearn\\linear_model\\logistic.py:432: FutureWarning: Default solver will be changed to 'lbfgs' in 0.22. Specify a solver to silence this warning.\n",
      "  FutureWarning)\n",
      "C:\\Users\\dakin\\Anaconda3\\lib\\site-packages\\sklearn\\linear_model\\logistic.py:432: FutureWarning: Default solver will be changed to 'lbfgs' in 0.22. Specify a solver to silence this warning.\n",
      "  FutureWarning)\n",
      "C:\\Users\\dakin\\Anaconda3\\lib\\site-packages\\sklearn\\linear_model\\logistic.py:432: FutureWarning: Default solver will be changed to 'lbfgs' in 0.22. Specify a solver to silence this warning.\n",
      "  FutureWarning)\n",
      "C:\\Users\\dakin\\Anaconda3\\lib\\site-packages\\sklearn\\linear_model\\logistic.py:432: FutureWarning: Default solver will be changed to 'lbfgs' in 0.22. Specify a solver to silence this warning.\n",
      "  FutureWarning)\n",
      "C:\\Users\\dakin\\Anaconda3\\lib\\site-packages\\sklearn\\linear_model\\logistic.py:432: FutureWarning: Default solver will be changed to 'lbfgs' in 0.22. Specify a solver to silence this warning.\n",
      "  FutureWarning)\n",
      "C:\\Users\\dakin\\Anaconda3\\lib\\site-packages\\sklearn\\linear_model\\logistic.py:432: FutureWarning: Default solver will be changed to 'lbfgs' in 0.22. Specify a solver to silence this warning.\n",
      "  FutureWarning)\n"
     ]
    },
    {
     "name": "stdout",
     "output_type": "stream",
     "text": [
      "[False False  True False False False False False False False  True False\n",
      "  True False False False False False False False  True False False False\n",
      " False False  True False False False False False False False False  True\n",
      " False False False False False False False False False  True  True False\n",
      " False False False False False False False False False False False  True\n",
      "  True  True False False False False False False  True False False False\n",
      " False  True False  True False False False  True  True False False False\n",
      "  True False False False False  True False False  True False False False\n",
      " False  True False False False False False False False False  True  True\n",
      "  True  True  True  True  True False False False False  True False False\n",
      " False  True  True  True  True  True  True  True  True  True  True  True\n",
      "  True  True False False False False False False False False False False\n",
      " False False False False False False False False False False False False\n",
      " False False False False False False False False  True False False False\n",
      " False False False False False False False False False False False False\n",
      " False False False False  True False False False False False False False\n",
      " False False False False False False False False False False False False\n",
      " False False False False False False False False False False False False\n",
      " False False False False False False False False False False False False\n",
      " False False False False False False False False  True  True  True  True\n",
      " False False False False False False False False False False False False\n",
      " False False False False False False False False False  True  True  True\n",
      " False False False False]\n",
      "[187 124   1  50  74 184 120  59 179  58   1 170   1 182  91  76 135 145\n",
      " 109  85   1  21 157  14  60 130   1 180  17  48 152  15  13  71  16   1\n",
      " 136  51 121  27 128 129  75 151 194   1   1  10 176 153 195 165 156 141\n",
      " 196 218 198 203  20   1   1   1 103 217 166  79  45  62   1 201  47  55\n",
      "  61   1 169   1 188  54  31   1   1  11  81 219   1   2  33 162  37   1\n",
      " 208 207   1 178  34  29  38   1   7   6   5   4  43  44 102  18   1   1\n",
      "   1   1   1   1   1  52  65  57  64   1  98  77  56   1   1   1   1   1\n",
      "   1   1   1   1   1   1   1   1 202 138 181 177  72 127 175  73 171 168\n",
      " 125  49 131 214 183 133 148 204  82 210 199  69  95 163  12 149 126 122\n",
      "  83 113   1 132 123  36 101  28  93 197 200 134 160 193  89 144  92  40\n",
      "  67  99 106   9   1  84 100  63 140 192 173 146   8 111 147 174 164 143\n",
      "  90  22 112  41   3 118  30  78 137 150 172  53 139 110  97  26  94  66\n",
      " 185 167  42 190 211 154  80 189 142 186 104 159 216 119  88  87  19 117\n",
      "  70 155   1   1   1   1 107  32  68 108  96 161  35  86  46 115  23 209\n",
      " 215  25 212 213 116 191 158 114  24   1   1   1  39 105 205 206]\n"
     ]
    }
   ],
   "source": [
    "from sklearn.feature_selection import RFE\n",
    "from sklearn.linear_model import LogisticRegression\n",
    "logreg = LogisticRegression()\n",
    "\n",
    "rfe = RFE(logreg, 50)\n",
    "rfe = rfe.fit(os_data_X, os_data_y)\n",
    "print(rfe.support_)\n",
    "print(rfe.ranking_)"
   ]
  },
  {
   "cell_type": "code",
   "execution_count": 226,
   "metadata": {},
   "outputs": [
    {
     "data": {
      "text/plain": [
       "268"
      ]
     },
     "execution_count": 226,
     "metadata": {},
     "output_type": "execute_result"
    }
   ],
   "source": [
    "a=list(rfe.ranking_)\n",
    "len(a) #CUS_ID & Y1"
   ]
  },
  {
   "cell_type": "code",
   "execution_count": 227,
   "metadata": {
    "scrolled": true
   },
   "outputs": [
    {
     "name": "stdout",
     "output_type": "stream",
     "text": [
      "LAST_A_ISSUE_DT\n",
      "APC_1ST_YEARDIF\n",
      "IF_ISSUE_A_IND\n",
      "IF_ISSUE_I_IND\n",
      "IF_ISSUE_O_IND\n",
      "ANNUAL_PREMIUM_AMT\n",
      "BANK_NUMBER_CNT\n",
      "INSD_LAST_YEARDIF_CNT\n",
      "POLICY_VALUE_AMT\n",
      "ANNUITY_AMT\n",
      "EXPIRATION_AMT\n",
      "ILL_ACCELERATION_AMT\n",
      "LIFE_INSD_CNT\n",
      "GENDER_-1.0\n",
      "AGE_2\n",
      "AGE_3\n",
      "CHARGE_CITY_CD_2\n",
      "CHARGE_CITY_CD_7\n",
      "CONTACT_CITY_CD_2\n",
      "CONTACT_CITY_CD_7\n",
      "OCCUPATION_CLASS_CD_0.0\n",
      "OCCUPATION_CLASS_CD_1.0\n",
      "OCCUPATION_CLASS_CD_2.0\n",
      "OCCUPATION_CLASS_CD_3.0\n",
      "OCCUPATION_CLASS_CD_4.0\n",
      "OCCUPATION_CLASS_CD_5.0\n",
      "OCCUPATION_CLASS_CD_6.0\n",
      "INSD_1ST_AGE_1.0\n",
      "RFM_R_1.0\n",
      "RFM_R_2.0\n",
      "RFM_R_3.0\n",
      "RFM_R_4.0\n",
      "REBUY_TIMES_CNT_1.0\n",
      "REBUY_TIMES_CNT_2.0\n",
      "REBUY_TIMES_CNT_3.0\n",
      "REBUY_TIMES_CNT_4.0\n",
      "LEVEL_1.0\n",
      "LEVEL_2.0\n",
      "LEVEL_3.0\n",
      "LEVEL_4.0\n",
      "LEVEL_5.0\n",
      "X_G_IND_-1.0\n",
      "IF_ISSUE_INSD_E_IND_1.0\n",
      "IF_ADD_INSD_IND_-1.0\n",
      "IF_ADD_INSD_IND_0.0\n",
      "IF_ADD_INSD_IND_1.0\n",
      "CUST_9_SEGMENTS_CD_0\n",
      "FINANCETOOLS_E_1.0\n",
      "FINANCETOOLS_F_-1.0\n",
      "FINANCETOOLS_F_0.0\n"
     ]
    }
   ],
   "source": [
    "cols=[]\n",
    "for i in range(268):\n",
    "    if a[i] == 1:\n",
    "        print(os_data_X.columns[i])\n",
    "        cols.append(os_data_X.columns[i])"
   ]
  },
  {
   "cell_type": "code",
   "execution_count": 228,
   "metadata": {},
   "outputs": [
    {
     "data": {
      "text/plain": [
       "50"
      ]
     },
     "execution_count": 228,
     "metadata": {},
     "output_type": "execute_result"
    }
   ],
   "source": [
    "len(cols)"
   ]
  },
  {
   "cell_type": "code",
   "execution_count": 229,
   "metadata": {},
   "outputs": [],
   "source": [
    "X=os_data_X[cols]\n",
    "y=os_data_y"
   ]
  },
  {
   "cell_type": "code",
   "execution_count": 231,
   "metadata": {},
   "outputs": [
    {
     "data": {
      "text/plain": [
       "(137206, 1)"
      ]
     },
     "execution_count": 231,
     "metadata": {},
     "output_type": "execute_result"
    }
   ],
   "source": [
    "y.shape"
   ]
  },
  {
   "cell_type": "code",
   "execution_count": 232,
   "metadata": {
    "scrolled": false
   },
   "outputs": [
    {
     "name": "stdout",
     "output_type": "stream",
     "text": [
      "Optimization terminated successfully.\n",
      "         Current function value: 0.480512\n",
      "         Iterations 8\n",
      "                              Results: Logit\n",
      "==========================================================================\n",
      "Model:                  Logit              Pseudo R-squared:   0.307      \n",
      "Dependent Variable:     Y1                 AIC:                131958.1284\n",
      "Date:                   2019-09-16 09:53   BIC:                132449.5903\n",
      "No. Observations:       137206             Log-Likelihood:     -65929.    \n",
      "Df Model:               49                 LL-Null:            -95104.    \n",
      "Df Residuals:           137156             LLR p-value:        0.0000     \n",
      "Converged:              1.0000             Scale:              1.0000     \n",
      "No. Iterations:         8.0000                                            \n",
      "--------------------------------------------------------------------------\n",
      "                         Coef.   Std.Err.    z     P>|z|   [0.025   0.975]\n",
      "--------------------------------------------------------------------------\n",
      "LAST_A_ISSUE_DT           1.0296   0.0309  33.2875 0.0000   0.9690  1.0902\n",
      "APC_1ST_YEARDIF          -1.2500   0.0773 -16.1752 0.0000  -1.4015 -1.0986\n",
      "IF_ISSUE_A_IND           -1.0014   0.0559 -17.9287 0.0000  -1.1109 -0.8920\n",
      "IF_ISSUE_I_IND            0.6461   0.0273  23.7072 0.0000   0.5927  0.6996\n",
      "IF_ISSUE_O_IND           -0.9505   0.0780 -12.1820 0.0000  -1.1034 -0.7976\n",
      "ANNUAL_PREMIUM_AMT        8.3657   3.0766   2.7191 0.0065   2.3357 14.3957\n",
      "BANK_NUMBER_CNT           1.6977   0.1077  15.7628 0.0000   1.4866  1.9087\n",
      "INSD_LAST_YEARDIF_CNT     1.0186   0.0818  12.4489 0.0000   0.8583  1.1790\n",
      "POLICY_VALUE_AMT        -13.3726   2.1419  -6.2434 0.0000 -17.5705 -9.1746\n",
      "ANNUITY_AMT               2.6216   0.7437   3.5253 0.0004   1.1641  4.0792\n",
      "EXPIRATION_AMT          -11.3858   2.8123  -4.0486 0.0001 -16.8977 -5.8738\n",
      "ILL_ACCELERATION_AMT     -4.1665   0.5799  -7.1845 0.0000  -5.3031 -3.0298\n",
      "LIFE_INSD_CNT             5.0782   0.2731  18.5952 0.0000   4.5429  5.6134\n",
      "GENDER_-1.0               0.6933   0.0777   8.9199 0.0000   0.5410  0.8457\n",
      "AGE_2                     1.5364   0.0199  77.3809 0.0000   1.4975  1.5754\n",
      "AGE_3                     1.0246   0.0205  50.0626 0.0000   0.9844  1.0647\n",
      "CHARGE_CITY_CD_2          0.8841   0.0418  21.1647 0.0000   0.8022  0.9660\n",
      "CHARGE_CITY_CD_7         -0.5299   0.2060  -2.5730 0.0101  -0.9336 -0.1263\n",
      "CONTACT_CITY_CD_2        -0.7309   0.0349 -20.9151 0.0000  -0.7994 -0.6624\n",
      "CONTACT_CITY_CD_7         1.1290   0.1467   7.6978 0.0000   0.8415  1.4164\n",
      "OCCUPATION_CLASS_CD_0.0  -2.8942   0.1028 -28.1502 0.0000  -3.0957 -2.6927\n",
      "OCCUPATION_CLASS_CD_1.0  -3.0031   0.0375 -80.1264 0.0000  -3.0765 -2.9296\n",
      "OCCUPATION_CLASS_CD_2.0  -3.1504   0.0413 -76.2404 0.0000  -3.2314 -3.0695\n",
      "OCCUPATION_CLASS_CD_3.0  -3.0538   0.0505 -60.4553 0.0000  -3.1528 -2.9548\n",
      "OCCUPATION_CLASS_CD_4.0  -3.0883   0.0627 -49.2537 0.0000  -3.2112 -2.9654\n",
      "OCCUPATION_CLASS_CD_5.0  -4.2352   0.1813 -23.3578 0.0000  -4.5906 -3.8799\n",
      "OCCUPATION_CLASS_CD_6.0  -3.4271   0.1629 -21.0380 0.0000  -3.7464 -3.1078\n",
      "INSD_1ST_AGE_1.0         -0.8278   0.0266 -31.1118 0.0000  -0.8800 -0.7757\n",
      "RFM_R_1.0                -2.0094   0.5139  -3.9101 0.0001  -3.0166 -1.0022\n",
      "RFM_R_2.0                -1.8659   0.5142  -3.6288 0.0003  -2.8737 -0.8581\n",
      "RFM_R_3.0                -2.1855   0.5142  -4.2499 0.0000  -3.1933 -1.1776\n",
      "RFM_R_4.0                -2.4809   0.5146  -4.8212 0.0000  -3.4894 -1.4723\n",
      "REBUY_TIMES_CNT_1.0      -0.3375   0.9860  -0.3423 0.7322  -2.2700  1.5950\n",
      "REBUY_TIMES_CNT_2.0      -0.2616   0.9863  -0.2652 0.7908  -2.1947  1.6715\n",
      "REBUY_TIMES_CNT_3.0      -0.2445   0.9865  -0.2479 0.8042  -2.1779  1.6889\n",
      "REBUY_TIMES_CNT_4.0      -0.0109   0.9863  -0.0111 0.9911  -1.9441  1.9222\n",
      "LEVEL_1.0                 2.7566   0.8408   3.2784 0.0010   1.1086  4.4047\n",
      "LEVEL_2.0                 3.4771   0.8413   4.1331 0.0000   1.8282  5.1260\n",
      "LEVEL_3.0                 3.2089   0.8413   3.8143 0.0001   1.5600  4.8578\n",
      "LEVEL_4.0                 3.5937   0.8408   4.2741 0.0000   1.9457  5.2417\n",
      "LEVEL_5.0                 3.9706   0.8406   4.7235 0.0000   2.3230  5.6182\n",
      "X_G_IND_-1.0              0.8743   0.3233   2.7039 0.0069   0.2405  1.5080\n",
      "IF_ISSUE_INSD_E_IND_1.0  -1.5749   0.2041  -7.7178 0.0000  -1.9748 -1.1749\n",
      "IF_ADD_INSD_IND_-1.0      4.0924   0.1979  20.6840 0.0000   3.7046  4.4802\n",
      "IF_ADD_INSD_IND_0.0      -0.4564   0.0933  -4.8927 0.0000  -0.6393 -0.2736\n",
      "IF_ADD_INSD_IND_1.0      -0.2410   0.0950  -2.5363 0.0112  -0.4272 -0.0548\n",
      "CUST_9_SEGMENTS_CD_0     -2.0057   0.1080 -18.5744 0.0000  -2.2174 -1.7941\n",
      "FINANCETOOLS_E_1.0       -1.0490   0.1695  -6.1881 0.0000  -1.3812 -0.7167\n",
      "FINANCETOOLS_F_-1.0       0.6077   0.0691   8.7989 0.0000   0.4724  0.7431\n",
      "FINANCETOOLS_F_0.0        0.6411   0.0687   9.3316 0.0000   0.5064  0.7757\n",
      "==========================================================================\n",
      "\n"
     ]
    }
   ],
   "source": [
    "import statsmodels.api as sm\n",
    "logit_model=sm.Logit(y,X)\n",
    "result=logit_model.fit()\n",
    "print(result.summary2())"
   ]
  },
  {
   "cell_type": "code",
   "execution_count": 233,
   "metadata": {},
   "outputs": [
    {
     "data": {
      "text/plain": [
       "42"
      ]
     },
     "execution_count": 233,
     "metadata": {},
     "output_type": "execute_result"
    }
   ],
   "source": [
    "undesired = ['ANNUAL_PREMIUM_AMT','REBUY_TIMES_CNT_1.0','REBUY_TIMES_CNT_2.0','REBUY_TIMES_CNT_3.0','REBUY_TIMES_CNT_4.0','CHARGE_CITY_CD_7','X_G_IND_-1.0','IF_ADD_INSD_IND_1.0']\n",
    "cols = [i for i in cols if i not in undesired]\n",
    "len(cols)"
   ]
  },
  {
   "cell_type": "code",
   "execution_count": 237,
   "metadata": {},
   "outputs": [
    {
     "data": {
      "text/plain": [
       "(137206, 42)"
      ]
     },
     "execution_count": 237,
     "metadata": {},
     "output_type": "execute_result"
    }
   ],
   "source": [
    "X=X[cols]\n",
    "X.shape"
   ]
  },
  {
   "cell_type": "code",
   "execution_count": 238,
   "metadata": {},
   "outputs": [
    {
     "name": "stdout",
     "output_type": "stream",
     "text": [
      "Optimization terminated successfully.\n",
      "         Current function value: 0.480986\n",
      "         Iterations 8\n",
      "                              Results: Logit\n",
      "==========================================================================\n",
      "Model:                  Logit              Pseudo R-squared:   0.306      \n",
      "Dependent Variable:     Y1                 AIC:                132072.2293\n",
      "Date:                   2019-09-16 14:07   BIC:                132485.0573\n",
      "No. Observations:       137206             Log-Likelihood:     -65994.    \n",
      "Df Model:               41                 LL-Null:            -95104.    \n",
      "Df Residuals:           137164             LLR p-value:        0.0000     \n",
      "Converged:              1.0000             Scale:              1.0000     \n",
      "No. Iterations:         8.0000                                            \n",
      "--------------------------------------------------------------------------\n",
      "                         Coef.   Std.Err.    z     P>|z|   [0.025   0.975]\n",
      "--------------------------------------------------------------------------\n",
      "LAST_A_ISSUE_DT           1.0306   0.0307  33.5410 0.0000   0.9704  1.0909\n",
      "APC_1ST_YEARDIF          -0.8899   0.0606 -14.6772 0.0000  -1.0088 -0.7711\n",
      "IF_ISSUE_A_IND           -0.9762   0.0556 -17.5475 0.0000  -1.0852 -0.8672\n",
      "IF_ISSUE_I_IND            0.6731   0.0270  24.9409 0.0000   0.6202  0.7259\n",
      "IF_ISSUE_O_IND           -0.8860   0.0778 -11.3943 0.0000  -1.0384 -0.7336\n",
      "BANK_NUMBER_CNT           1.9857   0.1031  19.2598 0.0000   1.7836  2.1878\n",
      "INSD_LAST_YEARDIF_CNT     0.9208   0.0750  12.2847 0.0000   0.7739  1.0678\n",
      "POLICY_VALUE_AMT        -12.3362   2.1507  -5.7359 0.0000 -16.5514 -8.1209\n",
      "ANNUITY_AMT               2.3481   0.7425   3.1623 0.0016   0.8928  3.8034\n",
      "EXPIRATION_AMT          -11.3114   2.8166  -4.0160 0.0001 -16.8317 -5.7910\n",
      "ILL_ACCELERATION_AMT     -4.0269   0.5779  -6.9687 0.0000  -5.1594 -2.8943\n",
      "LIFE_INSD_CNT             5.4521   0.2646  20.6023 0.0000   4.9335  5.9708\n",
      "GENDER_-1.0               0.6963   0.0777   8.9579 0.0000   0.5440  0.8487\n",
      "AGE_2                     1.5041   0.0194  77.3987 0.0000   1.4661  1.5422\n",
      "AGE_3                     1.0114   0.0202  49.9841 0.0000   0.9717  1.0510\n",
      "CHARGE_CITY_CD_2          0.8286   0.0384  21.5514 0.0000   0.7533  0.9040\n",
      "CONTACT_CITY_CD_2        -0.6872   0.0334 -20.5468 0.0000  -0.7528 -0.6217\n",
      "CONTACT_CITY_CD_7         0.8697   0.1057   8.2293 0.0000   0.6626  1.0769\n",
      "OCCUPATION_CLASS_CD_0.0  -2.9142   0.1026 -28.4042 0.0000  -3.1153 -2.7131\n",
      "OCCUPATION_CLASS_CD_1.0  -3.0321   0.0348 -87.1909 0.0000  -3.1003 -2.9640\n",
      "OCCUPATION_CLASS_CD_2.0  -3.1767   0.0389 -81.6684 0.0000  -3.2529 -3.1004\n",
      "OCCUPATION_CLASS_CD_3.0  -3.0826   0.0486 -63.3652 0.0000  -3.1779 -2.9872\n",
      "OCCUPATION_CLASS_CD_4.0  -3.1263   0.0612 -51.0463 0.0000  -3.2464 -3.0063\n",
      "OCCUPATION_CLASS_CD_5.0  -4.3039   0.1814 -23.7257 0.0000  -4.6595 -3.9484\n",
      "OCCUPATION_CLASS_CD_6.0  -3.4794   0.1622 -21.4491 0.0000  -3.7973 -3.1615\n",
      "INSD_1ST_AGE_1.0         -0.8592   0.0262 -32.7956 0.0000  -0.9106 -0.8079\n",
      "RFM_R_1.0                -2.1387   0.4473  -4.7812 0.0000  -3.0154 -1.2620\n",
      "RFM_R_2.0                -2.0132   0.4474  -4.4999 0.0000  -2.8900 -1.1363\n",
      "RFM_R_3.0                -2.3618   0.4476  -5.2769 0.0000  -3.2390 -1.4846\n",
      "RFM_R_4.0                -2.7063   0.4478  -6.0433 0.0000  -3.5840 -1.8286\n",
      "LEVEL_1.0                 2.5510   0.4479   5.6955 0.0000   1.6732  3.4289\n",
      "LEVEL_2.0                 3.2500   0.4489   7.2397 0.0000   2.3702  4.1299\n",
      "LEVEL_3.0                 3.0119   0.4489   6.7089 0.0000   2.1320  3.8918\n",
      "LEVEL_4.0                 3.3875   0.4482   7.5576 0.0000   2.5090  4.2660\n",
      "LEVEL_5.0                 3.7829   0.4478   8.4474 0.0000   2.9052  4.6606\n",
      "IF_ISSUE_INSD_E_IND_1.0  -1.4876   0.2020  -7.3627 0.0000  -1.8836 -1.0916\n",
      "IF_ADD_INSD_IND_-1.0      4.3021   0.1734  24.8054 0.0000   3.9621  4.6420\n",
      "IF_ADD_INSD_IND_0.0      -0.2169   0.0166 -13.1060 0.0000  -0.2494 -0.1845\n",
      "CUST_9_SEGMENTS_CD_0     -1.9331   0.1063 -18.1933 0.0000  -2.1413 -1.7248\n",
      "FINANCETOOLS_E_1.0       -1.0367   0.1683  -6.1589 0.0000  -1.3666 -0.7068\n",
      "FINANCETOOLS_F_-1.0       0.4003   0.0456   8.7780 0.0000   0.3109  0.4897\n",
      "FINANCETOOLS_F_0.0        0.4467   0.0468   9.5357 0.0000   0.3549  0.5385\n",
      "==========================================================================\n",
      "\n"
     ]
    }
   ],
   "source": [
    "logit_model=sm.Logit(y,X)\n",
    "result=logit_model.fit()\n",
    "print(result.summary2())"
   ]
  },
  {
   "cell_type": "code",
   "execution_count": 239,
   "metadata": {},
   "outputs": [
    {
     "name": "stderr",
     "output_type": "stream",
     "text": [
      "C:\\Users\\dakin\\Anaconda3\\lib\\site-packages\\sklearn\\linear_model\\logistic.py:432: FutureWarning: Default solver will be changed to 'lbfgs' in 0.22. Specify a solver to silence this warning.\n",
      "  FutureWarning)\n",
      "C:\\Users\\dakin\\Anaconda3\\lib\\site-packages\\sklearn\\utils\\validation.py:724: DataConversionWarning: A column-vector y was passed when a 1d array was expected. Please change the shape of y to (n_samples, ), for example using ravel().\n",
      "  y = column_or_1d(y, warn=True)\n"
     ]
    },
    {
     "data": {
      "text/plain": [
       "LogisticRegression(C=1.0, class_weight=None, dual=False, fit_intercept=True,\n",
       "                   intercept_scaling=1, l1_ratio=None, max_iter=100,\n",
       "                   multi_class='warn', n_jobs=None, penalty='l2',\n",
       "                   random_state=None, solver='warn', tol=0.0001, verbose=0,\n",
       "                   warm_start=False)"
      ]
     },
     "execution_count": 239,
     "metadata": {},
     "output_type": "execute_result"
    }
   ],
   "source": [
    "from sklearn.linear_model import LogisticRegression\n",
    "logreg = LogisticRegression()\n",
    "logreg.fit(X,y)"
   ]
  },
  {
   "cell_type": "code",
   "execution_count": 16,
   "metadata": {},
   "outputs": [],
   "source": [
    "test = pd.read_csv('test_data.csv')"
   ]
  },
  {
   "cell_type": "code",
   "execution_count": 241,
   "metadata": {
    "scrolled": true
   },
   "outputs": [
    {
     "name": "stdout",
     "output_type": "stream",
     "text": [
      "(150000, 132)\n"
     ]
    },
    {
     "data": {
      "text/plain": [
       "0"
      ]
     },
     "execution_count": 241,
     "metadata": {},
     "output_type": "execute_result"
    }
   ],
   "source": [
    "print(test.shape)\n",
    "test.isnull().any().sum()"
   ]
  },
  {
   "cell_type": "code",
   "execution_count": 17,
   "metadata": {},
   "outputs": [
    {
     "data": {
      "text/plain": [
       "(150000, 130)"
      ]
     },
     "execution_count": 17,
     "metadata": {},
     "output_type": "execute_result"
    }
   ],
   "source": [
    "test=test.drop(['CUS_ID',test.columns[0]],axis=1)\n",
    "test.shape"
   ]
  },
  {
   "cell_type": "code",
   "execution_count": 18,
   "metadata": {},
   "outputs": [
    {
     "data": {
      "text/plain": [
       "55"
      ]
     },
     "execution_count": 18,
     "metadata": {},
     "output_type": "execute_result"
    }
   ],
   "source": [
    "cat_vars=['GENDER','AGE','CHARGE_CITY_CD','CONTACT_CITY_CD','EDUCATION_CD','MARRIAGE_CD','OCCUPATION_CLASS_CD','APC_1ST_AGE',\n",
    "          'INSD_1ST_AGE','RFM_R','REBUY_TIMES_CNT','LEVEL','LIFE_CNT','A_IND','B_IND','C_IND','X_A_IND','X_B_IND','X_C_IND',\n",
    "          'X_D_IND','X_E_IND','X_F_IND','X_G_IND','X_H_IND','IF_ISSUE_INSD_A_IND','IF_ISSUE_INSD_B_IND','IF_ISSUE_INSD_C_IND',\n",
    "          'IF_ISSUE_INSD_D_IND','IF_ISSUE_INSD_E_IND','IF_ISSUE_INSD_F_IND','IF_ISSUE_INSD_G_IND','IF_ISSUE_INSD_H_IND',\n",
    "          'IF_ISSUE_INSD_I_IND','IF_ISSUE_INSD_J_IND','IF_ISSUE_INSD_K_IND','IF_ISSUE_INSD_L_IND','IF_ISSUE_INSD_M_IND',\n",
    "          'IF_ISSUE_INSD_N_IND','IF_ISSUE_INSD_O_IND','IF_ISSUE_INSD_P_IND','IF_ISSUE_INSD_Q_IND','IF_ADD_INSD_F_IND',\n",
    "          'IF_ADD_INSD_L_IND','IF_ADD_INSD_Q_IND','IF_ADD_INSD_G_IND','IF_ADD_INSD_R_IND','IF_ADD_INSD_IND','CUST_9_SEGMENTS_CD',\n",
    "          'FINANCETOOLS_A','FINANCETOOLS_B','FINANCETOOLS_C','FINANCETOOLS_D','FINANCETOOLS_E','FINANCETOOLS_F','FINANCETOOLS_G']\n",
    "len(cat_vars)"
   ]
  },
  {
   "cell_type": "code",
   "execution_count": 19,
   "metadata": {},
   "outputs": [],
   "source": [
    "for var in cat_vars:\n",
    "    cat_list = pd.get_dummies(test[var], prefix=var)\n",
    "    test1=test.join(cat_list)\n",
    "    test=test1\n",
    "    \n",
    "cat_vars=['GENDER','AGE','CHARGE_CITY_CD','CONTACT_CITY_CD','EDUCATION_CD','MARRIAGE_CD','OCCUPATION_CLASS_CD','APC_1ST_AGE',\n",
    "          'INSD_1ST_AGE','RFM_R','REBUY_TIMES_CNT','LEVEL','LIFE_CNT','A_IND','B_IND','C_IND','X_A_IND','X_B_IND','X_C_IND',\n",
    "          'X_D_IND','X_E_IND','X_F_IND','X_G_IND','X_H_IND','IF_ISSUE_INSD_A_IND','IF_ISSUE_INSD_B_IND','IF_ISSUE_INSD_C_IND',\n",
    "          'IF_ISSUE_INSD_D_IND','IF_ISSUE_INSD_E_IND','IF_ISSUE_INSD_F_IND','IF_ISSUE_INSD_G_IND','IF_ISSUE_INSD_H_IND',\n",
    "          'IF_ISSUE_INSD_I_IND','IF_ISSUE_INSD_J_IND','IF_ISSUE_INSD_K_IND','IF_ISSUE_INSD_L_IND','IF_ISSUE_INSD_M_IND',\n",
    "          'IF_ISSUE_INSD_N_IND','IF_ISSUE_INSD_O_IND','IF_ISSUE_INSD_P_IND','IF_ISSUE_INSD_Q_IND','IF_ADD_INSD_F_IND',\n",
    "          'IF_ADD_INSD_L_IND','IF_ADD_INSD_Q_IND','IF_ADD_INSD_G_IND','IF_ADD_INSD_R_IND','IF_ADD_INSD_IND','CUST_9_SEGMENTS_CD',\n",
    "          'FINANCETOOLS_A','FINANCETOOLS_B','FINANCETOOLS_C','FINANCETOOLS_D','FINANCETOOLS_E','FINANCETOOLS_F','FINANCETOOLS_G']\n",
    "data_vars=test.columns.values.tolist()\n",
    "to_keep=[i for i in data_vars if i not in cat_vars]"
   ]
  },
  {
   "cell_type": "code",
   "execution_count": 20,
   "metadata": {},
   "outputs": [
    {
     "data": {
      "text/plain": [
       "array(['LAST_A_CCONTACT_DT', 'L1YR_A_ISSUE_CNT', 'LAST_A_ISSUE_DT',\n",
       "       'L1YR_B_ISSUE_CNT', 'LAST_B_ISSUE_DT', 'CHANNEL_A_POL_CNT',\n",
       "       'CHANNEL_B_POL_CNT', 'APC_CNT', 'INSD_CNT', 'IF_2ND_GEN_IND',\n",
       "       'APC_1ST_YEARDIF', 'RFM_M_LEVEL', 'IF_ISSUE_A_IND',\n",
       "       'IF_ISSUE_B_IND', 'IF_ISSUE_C_IND', 'IF_ISSUE_D_IND',\n",
       "       'IF_ISSUE_E_IND', 'IF_ISSUE_F_IND', 'IF_ISSUE_G_IND',\n",
       "       'IF_ISSUE_H_IND', 'IF_ISSUE_I_IND', 'IF_ISSUE_J_IND',\n",
       "       'IF_ISSUE_K_IND', 'IF_ISSUE_L_IND', 'IF_ISSUE_M_IND',\n",
       "       'IF_ISSUE_N_IND', 'IF_ISSUE_O_IND', 'IF_ISSUE_P_IND',\n",
       "       'IF_ISSUE_Q_IND', 'IF_ADD_F_IND', 'IF_ADD_L_IND', 'IF_ADD_Q_IND',\n",
       "       'IF_ADD_G_IND', 'IF_ADD_R_IND', 'IF_ADD_IND', 'ANNUAL_PREMIUM_AMT',\n",
       "       'AG_CNT', 'AG_NOW_CNT', 'CLC_CUR_NUM', 'ANNUAL_INCOME_AMT',\n",
       "       'L1YR_PAYMENT_REMINDER_IND', 'L1YR_LAPSE_IND', 'LAST_B_CONTACT_DT',\n",
       "       'LAST_C_DT', 'L1YR_C_CNT', 'BANK_NUMBER_CNT',\n",
       "       'INSD_LAST_YEARDIF_CNT', 'BMI', 'IF_S_REAL_IND', 'IF_Y_REAL_IND',\n",
       "       'IM_CNT', 'IM_IS_A_IND', 'IM_IS_B_IND', 'IM_IS_C_IND',\n",
       "       'IM_IS_D_IND', 'TERMINATION_RATE', 'TOOL_VISIT_1YEAR_CNT',\n",
       "       'DIEBENEFIT_AMT', 'DIEACCIDENT_AMT', 'POLICY_VALUE_AMT',\n",
       "       'ANNUITY_AMT', 'EXPIRATION_AMT', 'ACCIDENT_HOSPITAL_REC_AMT',\n",
       "       'DISEASES_HOSPITAL_REC_AMT', 'OUTPATIENT_SURGERY_AMT',\n",
       "       'INPATIENT_SURGERY_AMT', 'PAY_LIMIT_MED_MISC_AMT',\n",
       "       'FIRST_CANCER_AMT', 'ILL_ACCELERATION_AMT', 'ILL_ADDITIONAL_AMT',\n",
       "       'LONG_TERM_CARE_AMT', 'MONTHLY_CARE_AMT', 'IF_HOUSEHOLD_CLAIM_IND',\n",
       "       'LIFE_INSD_CNT', 'L1YR_GROSS_PRE_AMT', 'GENDER_-1.0', 'GENDER_0.0',\n",
       "       'GENDER_1.0', 'AGE_1', 'AGE_2', 'AGE_3', 'AGE_4',\n",
       "       'CHARGE_CITY_CD_0', 'CHARGE_CITY_CD_1', 'CHARGE_CITY_CD_2',\n",
       "       'CHARGE_CITY_CD_3', 'CHARGE_CITY_CD_4', 'CHARGE_CITY_CD_5',\n",
       "       'CHARGE_CITY_CD_6', 'CHARGE_CITY_CD_7', 'CONTACT_CITY_CD_0',\n",
       "       'CONTACT_CITY_CD_1', 'CONTACT_CITY_CD_2', 'CONTACT_CITY_CD_3',\n",
       "       'CONTACT_CITY_CD_4', 'CONTACT_CITY_CD_5', 'CONTACT_CITY_CD_6',\n",
       "       'CONTACT_CITY_CD_7', 'EDUCATION_CD_1.0', 'EDUCATION_CD_2.0',\n",
       "       'EDUCATION_CD_2.173167369784053', 'EDUCATION_CD_3.0',\n",
       "       'EDUCATION_CD_4.0', 'MARRIAGE_CD_-1.0', 'MARRIAGE_CD_0.0',\n",
       "       'MARRIAGE_CD_1.0', 'MARRIAGE_CD_2.0', 'OCCUPATION_CLASS_CD_0.0',\n",
       "       'OCCUPATION_CLASS_CD_1.0',\n",
       "       'OCCUPATION_CLASS_CD_1.3071376874030671',\n",
       "       'OCCUPATION_CLASS_CD_2.0', 'OCCUPATION_CLASS_CD_3.0',\n",
       "       'OCCUPATION_CLASS_CD_4.0', 'OCCUPATION_CLASS_CD_5.0',\n",
       "       'OCCUPATION_CLASS_CD_6.0', 'APC_1ST_AGE_1.0', 'APC_1ST_AGE_2.0',\n",
       "       'APC_1ST_AGE_2.532592730748607', 'APC_1ST_AGE_3.0',\n",
       "       'APC_1ST_AGE_4.0', 'INSD_1ST_AGE_1.0', 'INSD_1ST_AGE_2.0',\n",
       "       'INSD_1ST_AGE_2.471530676196445', 'INSD_1ST_AGE_3.0',\n",
       "       'INSD_1ST_AGE_4.0', 'RFM_R_1.0', 'RFM_R_2.0',\n",
       "       'RFM_R_2.3810523124992717', 'RFM_R_3.0', 'RFM_R_4.0',\n",
       "       'REBUY_TIMES_CNT_1.0', 'REBUY_TIMES_CNT_1.9991373883850512',\n",
       "       'REBUY_TIMES_CNT_2.0', 'REBUY_TIMES_CNT_3.0',\n",
       "       'REBUY_TIMES_CNT_4.0', 'LEVEL_1.0', 'LEVEL_2.0', 'LEVEL_3.0',\n",
       "       'LEVEL_3.5893989555161805', 'LEVEL_4.0', 'LEVEL_5.0', 'LIFE_CNT_1',\n",
       "       'LIFE_CNT_2', 'LIFE_CNT_3', 'A_IND_-1.0', 'A_IND_0.0', 'A_IND_1.0',\n",
       "       'B_IND_-1.0', 'B_IND_0.0', 'B_IND_1.0', 'C_IND_-1.0', 'C_IND_0.0',\n",
       "       'C_IND_1.0', 'X_A_IND_-1.0', 'X_A_IND_0.0', 'X_A_IND_1.0',\n",
       "       'X_B_IND_-1.0', 'X_B_IND_0.0', 'X_B_IND_1.0', 'X_C_IND_-1.0',\n",
       "       'X_C_IND_0.0', 'X_C_IND_1.0', 'X_D_IND_-1.0', 'X_D_IND_0.0',\n",
       "       'X_D_IND_1.0', 'X_E_IND_-1.0', 'X_E_IND_0.0', 'X_E_IND_1.0',\n",
       "       'X_F_IND_-1.0', 'X_F_IND_0.0', 'X_F_IND_1.0', 'X_G_IND_-1.0',\n",
       "       'X_G_IND_0.0', 'X_G_IND_1.0', 'X_H_IND_-1.0', 'X_H_IND_0.0',\n",
       "       'X_H_IND_1.0', 'IF_ISSUE_INSD_A_IND_-1.0',\n",
       "       'IF_ISSUE_INSD_A_IND_0.0', 'IF_ISSUE_INSD_A_IND_1.0',\n",
       "       'IF_ISSUE_INSD_B_IND_-1.0', 'IF_ISSUE_INSD_B_IND_0.0',\n",
       "       'IF_ISSUE_INSD_B_IND_1.0', 'IF_ISSUE_INSD_C_IND_-1.0',\n",
       "       'IF_ISSUE_INSD_C_IND_0.0', 'IF_ISSUE_INSD_C_IND_1.0',\n",
       "       'IF_ISSUE_INSD_D_IND_-1.0', 'IF_ISSUE_INSD_D_IND_0.0',\n",
       "       'IF_ISSUE_INSD_D_IND_1.0', 'IF_ISSUE_INSD_E_IND_-1.0',\n",
       "       'IF_ISSUE_INSD_E_IND_0.0', 'IF_ISSUE_INSD_E_IND_1.0',\n",
       "       'IF_ISSUE_INSD_F_IND_-1.0', 'IF_ISSUE_INSD_F_IND_0.0',\n",
       "       'IF_ISSUE_INSD_F_IND_1.0', 'IF_ISSUE_INSD_G_IND_-1.0',\n",
       "       'IF_ISSUE_INSD_G_IND_0.0', 'IF_ISSUE_INSD_G_IND_1.0',\n",
       "       'IF_ISSUE_INSD_H_IND_-1.0', 'IF_ISSUE_INSD_H_IND_0.0',\n",
       "       'IF_ISSUE_INSD_H_IND_1.0', 'IF_ISSUE_INSD_I_IND_-1.0',\n",
       "       'IF_ISSUE_INSD_I_IND_0.0', 'IF_ISSUE_INSD_I_IND_1.0',\n",
       "       'IF_ISSUE_INSD_J_IND_-1.0', 'IF_ISSUE_INSD_J_IND_0.0',\n",
       "       'IF_ISSUE_INSD_J_IND_1.0', 'IF_ISSUE_INSD_K_IND_-1.0',\n",
       "       'IF_ISSUE_INSD_K_IND_0.0', 'IF_ISSUE_INSD_K_IND_1.0',\n",
       "       'IF_ISSUE_INSD_L_IND_-1.0', 'IF_ISSUE_INSD_L_IND_0.0',\n",
       "       'IF_ISSUE_INSD_L_IND_1.0', 'IF_ISSUE_INSD_M_IND_-1.0',\n",
       "       'IF_ISSUE_INSD_M_IND_0.0', 'IF_ISSUE_INSD_M_IND_1.0',\n",
       "       'IF_ISSUE_INSD_N_IND_-1.0', 'IF_ISSUE_INSD_N_IND_0.0',\n",
       "       'IF_ISSUE_INSD_N_IND_1.0', 'IF_ISSUE_INSD_O_IND_-1.0',\n",
       "       'IF_ISSUE_INSD_O_IND_0.0', 'IF_ISSUE_INSD_O_IND_1.0',\n",
       "       'IF_ISSUE_INSD_P_IND_-1.0', 'IF_ISSUE_INSD_P_IND_0.0',\n",
       "       'IF_ISSUE_INSD_P_IND_1.0', 'IF_ISSUE_INSD_Q_IND_-1.0',\n",
       "       'IF_ISSUE_INSD_Q_IND_0.0', 'IF_ISSUE_INSD_Q_IND_1.0',\n",
       "       'IF_ADD_INSD_F_IND_-1.0', 'IF_ADD_INSD_F_IND_0.0',\n",
       "       'IF_ADD_INSD_F_IND_1.0', 'IF_ADD_INSD_L_IND_-1.0',\n",
       "       'IF_ADD_INSD_L_IND_0.0', 'IF_ADD_INSD_L_IND_1.0',\n",
       "       'IF_ADD_INSD_Q_IND_-1.0', 'IF_ADD_INSD_Q_IND_0.0',\n",
       "       'IF_ADD_INSD_Q_IND_1.0', 'IF_ADD_INSD_G_IND_-1.0',\n",
       "       'IF_ADD_INSD_G_IND_0.0', 'IF_ADD_INSD_G_IND_1.0',\n",
       "       'IF_ADD_INSD_R_IND_-1.0', 'IF_ADD_INSD_R_IND_0.0',\n",
       "       'IF_ADD_INSD_R_IND_1.0', 'IF_ADD_INSD_IND_-1.0',\n",
       "       'IF_ADD_INSD_IND_0.0', 'IF_ADD_INSD_IND_1.0',\n",
       "       'CUST_9_SEGMENTS_CD_0', 'CUST_9_SEGMENTS_CD_1',\n",
       "       'CUST_9_SEGMENTS_CD_2', 'CUST_9_SEGMENTS_CD_3',\n",
       "       'CUST_9_SEGMENTS_CD_4', 'CUST_9_SEGMENTS_CD_5',\n",
       "       'CUST_9_SEGMENTS_CD_6', 'CUST_9_SEGMENTS_CD_7',\n",
       "       'FINANCETOOLS_A_-1.0', 'FINANCETOOLS_A_0.0', 'FINANCETOOLS_A_1.0',\n",
       "       'FINANCETOOLS_B_-1.0', 'FINANCETOOLS_B_0.0', 'FINANCETOOLS_B_1.0',\n",
       "       'FINANCETOOLS_C_-1.0', 'FINANCETOOLS_C_0.0', 'FINANCETOOLS_C_1.0',\n",
       "       'FINANCETOOLS_D_-1.0', 'FINANCETOOLS_D_0.0', 'FINANCETOOLS_D_1.0',\n",
       "       'FINANCETOOLS_E_-1.0', 'FINANCETOOLS_E_0.0', 'FINANCETOOLS_E_1.0',\n",
       "       'FINANCETOOLS_F_-1.0', 'FINANCETOOLS_F_0.0', 'FINANCETOOLS_F_1.0',\n",
       "       'FINANCETOOLS_G_-1.0', 'FINANCETOOLS_G_0.0', 'FINANCETOOLS_G_1.0'],\n",
       "      dtype=object)"
      ]
     },
     "execution_count": 20,
     "metadata": {},
     "output_type": "execute_result"
    }
   ],
   "source": [
    "test_final=test[to_keep]\n",
    "test_final.columns.values"
   ]
  },
  {
   "cell_type": "code",
   "execution_count": 21,
   "metadata": {},
   "outputs": [
    {
     "data": {
      "text/plain": [
       "(150000, 275)"
      ]
     },
     "execution_count": 21,
     "metadata": {},
     "output_type": "execute_result"
    }
   ],
   "source": [
    "test_final.shape"
   ]
  },
  {
   "cell_type": "code",
   "execution_count": 248,
   "metadata": {},
   "outputs": [
    {
     "data": {
      "text/plain": [
       "42"
      ]
     },
     "execution_count": 248,
     "metadata": {},
     "output_type": "execute_result"
    }
   ],
   "source": [
    "len(cols)"
   ]
  },
  {
   "cell_type": "code",
   "execution_count": 249,
   "metadata": {},
   "outputs": [],
   "source": [
    "pred=test_final[cols]"
   ]
  },
  {
   "cell_type": "code",
   "execution_count": 250,
   "metadata": {},
   "outputs": [],
   "source": [
    "predict=logreg.predict(pred)\n",
    "pd.DataFrame(predict).to_csv('Trial3.csv')"
   ]
  },
  {
   "cell_type": "code",
   "execution_count": 251,
   "metadata": {},
   "outputs": [
    {
     "data": {
      "text/plain": [
       "array([1, 0], dtype=int64)"
      ]
     },
     "execution_count": 251,
     "metadata": {},
     "output_type": "execute_result"
    }
   ],
   "source": [
    "trial3=pd.read_csv('Trial3.csv')\n",
    "trial3['0'].unique()"
   ]
  },
  {
   "cell_type": "code",
   "execution_count": 252,
   "metadata": {},
   "outputs": [
    {
     "data": {
      "text/plain": [
       "0    112186\n",
       "1     37814\n",
       "Name: 0, dtype: int64"
      ]
     },
     "execution_count": 252,
     "metadata": {},
     "output_type": "execute_result"
    }
   ],
   "source": [
    "trial3['0'].value_counts()"
   ]
  },
  {
   "cell_type": "code",
   "execution_count": 253,
   "metadata": {},
   "outputs": [
    {
     "name": "stderr",
     "output_type": "stream",
     "text": [
      "C:\\Users\\dakin\\Anaconda3\\lib\\site-packages\\sklearn\\linear_model\\logistic.py:432: FutureWarning: Default solver will be changed to 'lbfgs' in 0.22. Specify a solver to silence this warning.\n",
      "  FutureWarning)\n",
      "C:\\Users\\dakin\\Anaconda3\\lib\\site-packages\\sklearn\\utils\\validation.py:724: DataConversionWarning: A column-vector y was passed when a 1d array was expected. Please change the shape of y to (n_samples, ), for example using ravel().\n",
      "  y = column_or_1d(y, warn=True)\n"
     ]
    },
    {
     "data": {
      "text/plain": [
       "LogisticRegression(C=1.0, class_weight=None, dual=False, fit_intercept=True,\n",
       "                   intercept_scaling=1, l1_ratio=None, max_iter=100,\n",
       "                   multi_class='warn', n_jobs=None, penalty='l2',\n",
       "                   random_state=None, solver='warn', tol=0.0001, verbose=0,\n",
       "                   warm_start=False)"
      ]
     },
     "execution_count": 253,
     "metadata": {},
     "output_type": "execute_result"
    }
   ],
   "source": [
    "from sklearn.linear_model import LogisticRegression\n",
    "from sklearn import metrics\n",
    "X_train, X_test, y_train, y_test = train_test_split(X, y, test_size=0.3, random_state=0)\n",
    "logreg = LogisticRegression()\n",
    "logreg.fit(X_train, y_train)"
   ]
  },
  {
   "cell_type": "code",
   "execution_count": 254,
   "metadata": {},
   "outputs": [
    {
     "name": "stdout",
     "output_type": "stream",
     "text": [
      "Accuracy of logistic regression classifier on test set: 0.78\n"
     ]
    }
   ],
   "source": [
    "y_pred = logreg.predict(X_test)\n",
    "print('Accuracy of logistic regression classifier on test set: {:.2f}'.format(logreg.score(X_test, y_test)))"
   ]
  },
  {
   "cell_type": "code",
   "execution_count": 255,
   "metadata": {},
   "outputs": [
    {
     "name": "stdout",
     "output_type": "stream",
     "text": [
      "              precision    recall  f1-score   support\n",
      "\n",
      "           0       0.78      0.76      0.77     20471\n",
      "           1       0.77      0.79      0.78     20691\n",
      "\n",
      "    accuracy                           0.78     41162\n",
      "   macro avg       0.78      0.78      0.78     41162\n",
      "weighted avg       0.78      0.78      0.78     41162\n",
      "\n"
     ]
    }
   ],
   "source": [
    "from sklearn.metrics import classification_report\n",
    "print(classification_report(y_test, y_pred))"
   ]
  },
  {
   "cell_type": "code",
   "execution_count": null,
   "metadata": {},
   "outputs": [],
   "source": []
  }
 ],
 "metadata": {
  "kernelspec": {
   "display_name": "Python 3",
   "language": "python",
   "name": "python3"
  },
  "language_info": {
   "codemirror_mode": {
    "name": "ipython",
    "version": 3
   },
   "file_extension": ".py",
   "mimetype": "text/x-python",
   "name": "python",
   "nbconvert_exporter": "python",
   "pygments_lexer": "ipython3",
   "version": "3.7.1"
  }
 },
 "nbformat": 4,
 "nbformat_minor": 2
}
